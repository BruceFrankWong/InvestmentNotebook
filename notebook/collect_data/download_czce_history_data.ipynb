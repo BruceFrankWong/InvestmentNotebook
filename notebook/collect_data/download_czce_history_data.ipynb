{
 "cells": [
  {
   "cell_type": "code",
   "execution_count": 1,
   "id": "d73e7426-7de2-477a-ac85-a2d05312154b",
   "metadata": {},
   "outputs": [],
   "source": [
    "import os\n",
    "from pathlib import Path\n",
    "\n",
    "NOTEBOOK_PATH: Path = Path(os.path.abspath(''))\n",
    "PATH_FOR_RESULT: Path = NOTEBOOK_PATH.parent.joinpath('RESULT')"
   ]
  },
  {
   "cell_type": "markdown",
   "id": "bf7a2ec6-f541-4855-8851-3266512781fc",
   "metadata": {},
   "source": [
    "# 获取郑州商品交易所（郑商所）的历史数据\n",
    "\n",
    "[郑商所官网](http://www.czce.com.cn/)顶部菜单“交易数据” -> “历史行情下载”。\n",
    "\n",
    "鼠标在下图红框示意的位置上划过，就能在浏览器的状态栏看到下载地址。\n",
    "\n",
    "![郑商所历史数据](../pictures/czce_data.png)\n",
    "\n",
    "看起来不如上期所和中金所的下载链接有规律。\n",
    "\n",
    "但是，只要是浏览器可以获得的公开数据（比如没有密码什么的），我们的爬虫一样可以获得。区别就是解析数据的繁琐程度。\n",
    "\n",
    "郑商所的下载链接需要解析网页了。\n",
    "\n",
    "安装 lxml 第三方库：\n",
    "\n",
    "`pip install lxml`\n",
    "\n",
    "解析网页可以一次性的获取期货历史数据下载链接和期权历史数据下载链接，需要做个区分。\n",
    "\n",
    "代码如下："
   ]
  },
  {
   "cell_type": "code",
   "execution_count": 2,
   "id": "91c71c7e-b81b-436d-9655-bd211e754219",
   "metadata": {},
   "outputs": [
    {
     "name": "stdout",
     "output_type": "stream",
     "text": [
      "{'futures': {2021: 'http://www.czce.com.cn/cn/DFSStaticFiles/Future/2021/ALLFUTURES2021.zip', 2020: 'http://www.czce.com.cn/cn/DFSStaticFiles/Future/2020/ALLFUTURES2020.zip', 2019: 'http://www.czce.com.cn/cn/DFSStaticFiles/Future/2019/FutureDataHistory.zip', 2018: 'http://www.czce.com.cn/cn/DFSStaticFiles/Future/2018/FutureDataHistory.zip', 2017: 'http://www.czce.com.cn/cn/DFSStaticFiles/Future/2017/FutureDataHistory.zip', 2016: 'http://www.czce.com.cn/cn/DFSStaticFiles/Future/2016/FutureDataHistory.zip', 2015: 'http://www.czce.com.cn/cn/DFSStaticFiles/Future/2015/FutureDataHistory.zip', 2014: 'http://www.czce.com.cn/cn/exchange/datahistory2014.zip', 2013: 'http://www.czce.com.cn/cn/exchange/datahistory2013.zip', 2012: 'http://www.czce.com.cn/cn/exchange/datahistory2012.zip', 2011: 'http://www.czce.com.cn/cn/exchange/datahistory2011.zip', 2010: 'http://www.czce.com.cn/cn/exchange/datahistory2010.zip'}, 'option': {2021: 'http://www.czce.com.cn/cn/DFSStaticFiles/Option/2021/ALLOPTIONS2021.zip', 2020: 'http://www.czce.com.cn/cn/DFSStaticFiles/Option/2020/ALLOPTIONS2020.zip', 2019: 'http://www.czce.com.cn/cn/DFSStaticFiles/Option/2019/OptionDataHistory.zip', 2018: 'http://www.czce.com.cn/cn/DFSStaticFiles/Option/2018/OptionDataHistory.zip', 2017: 'http://www.czce.com.cn/cn/DFSStaticFiles/Option/2017/OptionDataHistory.zip'}}\n"
     ]
    }
   ],
   "source": [
    "from typing import Dict\n",
    "\n",
    "import requests\n",
    "from lxml import etree\n",
    "\n",
    "def fetch_czce_history_index() -> Dict[str, Dict[int, str]]:\n",
    "    \"\"\"\n",
    "    获取郑州商品交易所（郑商所，CZCE）的历史数据下载链接。\n",
    "    :return: Dict[str, Dict[int, str]]，一个嵌套的字典。\n",
    "             外层字典的 key 是期货（'futures'）或者期权（'option'），\n",
    "             内层字典的 key 是年份，value 是下载地址。\n",
    "    \"\"\"\n",
    "    \n",
    "    # 定义将返回的结果的数据结构。\n",
    "    result: Dict[str, Dict[int, str]] = {\n",
    "        'futures': {},\n",
    "        'option': {},\n",
    "    }\n",
    "    \n",
    "    # 郑商所 url 和历史行情 url。\n",
    "    url_czce: str = 'http://www.czce.com.cn'\n",
    "    url: str = f'{url_czce}/cn/jysj/lshqxz/H770319index_1.htm'\n",
    "\n",
    "    # 下载历史行情页。\n",
    "    response = requests.get(url)\n",
    "    if response.status_code != 200:\n",
    "        raise requests.exceptions.HTTPError(\n",
    "            f'下载 <{url}> 时发生错误。'\n",
    "        )\n",
    "    response.encoding = 'utf-8'\n",
    "\n",
    "    # 解析网页。\n",
    "    html: etree._Element = etree.HTML(response.text)\n",
    "    url_list: List[str] = []\n",
    "    year_list: List[str] = []\n",
    "    node_list: List[etree._Element] = html.xpath('//li/span[@class=\"hidden-xs\"]')\n",
    "    for node in node_list:\n",
    "        url_list.append(node.xpath('./a[@target=\"_blank\"]/@href')[0])\n",
    "        year_list.append(node.xpath('../text()')[0])\n",
    "    assert len(url_list) == len(year_list)\n",
    "\n",
    "    # 填充数据.\n",
    "    for i in range(len(url_list)):\n",
    "        year = int(year_list[i][:4])\n",
    "        if 'Option' in url_list[i]:\n",
    "            result['option'][year] = f'{url_czce}{url_list[i]}'\n",
    "        else:\n",
    "            result['futures'][year] = f'{url_czce}{url_list[i]}'\n",
    "    return result\n",
    "\n",
    "# 测试。\n",
    "print(fetch_czce_history_index())"
   ]
  },
  {
   "cell_type": "markdown",
   "id": "6b9bffd2-21fb-4b24-a36f-e513a02c473c",
   "metadata": {},
   "source": [
    "下载历史数据的代码："
   ]
  },
  {
   "cell_type": "code",
   "execution_count": 3,
   "id": "6495ad83-5d1e-4c0d-ae30-16389561a60c",
   "metadata": {},
   "outputs": [],
   "source": [
    "def download_czce_history_data(save_path: Path, year: int, is_futures: bool = True):\n",
    "    \"\"\"\n",
    "    下载郑州商品交易所（郑商所，CZCE）的历史数据。\n",
    "    :param save_path: Path，保存的位置。\n",
    "    :param year: int，需要下载数据的年份。\n",
    "    :param is_futures: bool，为 True 表示期货，否则表示期权。默认是期货。\n",
    "    :return: None。\n",
    "    \"\"\"\n",
    "    # 获取下载链接。\n",
    "    url_mapper: Dict[str, Dict[int, str]] = fetch_czce_history_index()\n",
    "    \n",
    "    # 获得本次下载的内容（期货或者期权）。\n",
    "    type_: str\n",
    "    if is_futures:\n",
    "        type_ = 'futures'\n",
    "    else:\n",
    "        type_ = 'option'\n",
    "    url_list: Dict[int, str] = url_mapper[type_]\n",
    "\n",
    "    # 如果参数 <year> 不在本次下载内容中，引发异常。\n",
    "    if year not in url_list.keys():\n",
    "        raise ValueError('<year> is beyond possible range.')\n",
    "\n",
    "    # 如果参数 <save_path> 不存在，引发异常。\n",
    "    if not save_path.exists():\n",
    "        raise FileNotFoundError(f'目录 {save_path} 不存在。')\n",
    "\n",
    "    # 下载\n",
    "    response = requests.get(url_list[year])\n",
    "    \n",
    "    # 如果下载不顺利，引发异常。\n",
    "    if response.status_code != 200:\n",
    "        raise requests.exceptions.HTTPError(f'下载 <{url_list[year].format(year=year)}> 时发生错误。')\n",
    "    \n",
    "    # 保存文件。\n",
    "    with open(save_path.joinpath(f'CZCE_{type_}_{year:4d}.zip'), 'wb') as f:\n",
    "        f.write(response.content)\n",
    "\n",
    "# 测试。\n",
    "download_czce_history_data(save_path=PATH_FOR_RESULT, year=2020, is_futures=True)"
   ]
  },
  {
   "cell_type": "markdown",
   "id": "c655c568-acb6-4ba8-ae0d-86556acc5c48",
   "metadata": {},
   "source": [
    "下载所有历史数据的代码："
   ]
  },
  {
   "cell_type": "code",
   "execution_count": 4,
   "id": "dbbc9da5-f7a9-4562-b8b6-410e1a1f360b",
   "metadata": {},
   "outputs": [],
   "source": [
    "def download_all_czce_history_data(save_path: Path) -> None:\n",
    "    \"\"\"\n",
    "    下载郑州商品交易所（郑商所，CZCE）的全部历史数据。\n",
    "    :param save_path: 保存的位置。\n",
    "    :return: None.\n",
    "    \"\"\"\n",
    "    \n",
    "    # 如果参数 <save_path> 不存在，引发异常。\n",
    "    if not save_path.exists():\n",
    "        raise FileNotFoundError(f'目录 {save_path} 不存在。')\n",
    "    \n",
    "    # 获取下载链接。\n",
    "    url_mapper: Dict[str, Dict[int, str]] = fetch_czce_history_index()\n",
    "    \n",
    "    # 循环，分别下载期货和期权。\n",
    "    for type_ in ['futures', 'option']:\n",
    "        \n",
    "        # 按年份循环。\n",
    "        for year in url_mapper[type_].keys():\n",
    "            \n",
    "            # 具体的 url。\n",
    "            url = url_mapper[type_][year]\n",
    "            \n",
    "            # 下载\n",
    "            response = requests.get(url)\n",
    "            \n",
    "            # 如果下载不顺利，引发异常。\n",
    "            if response.status_code != 200:\n",
    "                raise requests.exceptions.HTTPError(f'下载 <{url}> 时发生错误。')\n",
    "            \n",
    "            # 保存文件。\n",
    "            with open(save_path.joinpath(f'CZCE_{type_}_{year:4d}.zip'), 'wb') as f:\n",
    "                f.write(response.content)\n",
    "\n",
    "# 测试。\n",
    "download_all_czce_history_data(save_path=PATH_FOR_RESULT)"
   ]
  },
  {
   "cell_type": "markdown",
   "id": "d2050470-232b-4e3f-acba-88a4ae5f01f8",
   "metadata": {},
   "source": [
    "Done."
   ]
  },
  {
   "cell_type": "code",
   "execution_count": null,
   "id": "4bc00f1c-9648-4d1f-b797-474ddfde0c58",
   "metadata": {},
   "outputs": [],
   "source": []
  }
 ],
 "metadata": {
  "kernelspec": {
   "display_name": "Python 3 (ipykernel)",
   "language": "python",
   "name": "python3"
  },
  "language_info": {
   "codemirror_mode": {
    "name": "ipython",
    "version": 3
   },
   "file_extension": ".py",
   "mimetype": "text/x-python",
   "name": "python",
   "nbconvert_exporter": "python",
   "pygments_lexer": "ipython3",
   "version": "3.8.9"
  }
 },
 "nbformat": 4,
 "nbformat_minor": 5
}

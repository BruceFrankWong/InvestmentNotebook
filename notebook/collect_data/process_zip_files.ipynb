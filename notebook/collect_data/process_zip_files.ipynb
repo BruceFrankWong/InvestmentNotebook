{
 "cells": [
  {
   "cell_type": "code",
   "execution_count": 1,
   "id": "77c18d3f-cef6-4e7f-b11e-49d358a70184",
   "metadata": {},
   "outputs": [],
   "source": [
    "import os\n",
    "from pathlib import Path\n",
    "\n",
    "NOTEBOOK_PATH: Path = Path(os.path.abspath(''))\n",
    "\n",
    "# print(f'当前运行在：{NOTEBOOK_PATH} 目录下。')\n",
    "\n",
    "PATH_FOR_RESULT: Path = NOTEBOOK_PATH.joinpath('RESULT')\n",
    "\n",
    "if not PATH_FOR_RESULT.exists():\n",
    "    PATH_FOR_RESULT.mkdir()"
   ]
  },
  {
   "cell_type": "markdown",
   "id": "29764fff-fd10-4cf1-bfa1-94bf10bc30ac",
   "metadata": {},
   "source": [
    "# 处理压缩文件\n",
    "\n",
    "处理 zip 文件，使用 Python 自带了 zipfile 模块即可。"
   ]
  },
  {
   "cell_type": "code",
   "execution_count": 2,
   "id": "5aed6d19-31f6-4e44-bb67-9c1a62a4e7cd",
   "metadata": {},
   "outputs": [
    {
     "data": {
      "text/plain": [
       "[WindowsPath('d:/Development/Jupyter/InvestmentNotebook/notebook/collect_data/RESULT/unzipped/20200820_1.csv'),\n",
       " WindowsPath('d:/Development/Jupyter/InvestmentNotebook/notebook/collect_data/RESULT/unzipped/20200831_1.csv'),\n",
       " WindowsPath('d:/Development/Jupyter/InvestmentNotebook/notebook/collect_data/RESULT/unzipped/20200813_1.csv'),\n",
       " WindowsPath('d:/Development/Jupyter/InvestmentNotebook/notebook/collect_data/RESULT/unzipped/20200825_1.csv'),\n",
       " WindowsPath('d:/Development/Jupyter/InvestmentNotebook/notebook/collect_data/RESULT/unzipped/20200803_1.csv'),\n",
       " WindowsPath('d:/Development/Jupyter/InvestmentNotebook/notebook/collect_data/RESULT/unzipped/20200821_1.csv'),\n",
       " WindowsPath('d:/Development/Jupyter/InvestmentNotebook/notebook/collect_data/RESULT/unzipped/20200812_1.csv'),\n",
       " WindowsPath('d:/Development/Jupyter/InvestmentNotebook/notebook/collect_data/RESULT/unzipped/20200827_1.csv'),\n",
       " WindowsPath('d:/Development/Jupyter/InvestmentNotebook/notebook/collect_data/RESULT/unzipped/20200826_1.csv'),\n",
       " WindowsPath('d:/Development/Jupyter/InvestmentNotebook/notebook/collect_data/RESULT/unzipped/20200810_1.csv'),\n",
       " WindowsPath('d:/Development/Jupyter/InvestmentNotebook/notebook/collect_data/RESULT/unzipped/20200817_1.csv'),\n",
       " WindowsPath('d:/Development/Jupyter/InvestmentNotebook/notebook/collect_data/RESULT/unzipped/20200828_1.csv'),\n",
       " WindowsPath('d:/Development/Jupyter/InvestmentNotebook/notebook/collect_data/RESULT/unzipped/20200804_1.csv'),\n",
       " WindowsPath('d:/Development/Jupyter/InvestmentNotebook/notebook/collect_data/RESULT/unzipped/20200805_1.csv'),\n",
       " WindowsPath('d:/Development/Jupyter/InvestmentNotebook/notebook/collect_data/RESULT/unzipped/20200807_1.csv'),\n",
       " WindowsPath('d:/Development/Jupyter/InvestmentNotebook/notebook/collect_data/RESULT/unzipped/20200824_1.csv'),\n",
       " WindowsPath('d:/Development/Jupyter/InvestmentNotebook/notebook/collect_data/RESULT/unzipped/20200814_1.csv'),\n",
       " WindowsPath('d:/Development/Jupyter/InvestmentNotebook/notebook/collect_data/RESULT/unzipped/20200818_1.csv'),\n",
       " WindowsPath('d:/Development/Jupyter/InvestmentNotebook/notebook/collect_data/RESULT/unzipped/20200806_1.csv'),\n",
       " WindowsPath('d:/Development/Jupyter/InvestmentNotebook/notebook/collect_data/RESULT/unzipped/20200819_1.csv'),\n",
       " WindowsPath('d:/Development/Jupyter/InvestmentNotebook/notebook/collect_data/RESULT/unzipped/20200811_1.csv')]"
      ]
     },
     "execution_count": 2,
     "metadata": {},
     "output_type": "execute_result"
    }
   ],
   "source": [
    "from typing import List\n",
    "import zipfile\n",
    "\n",
    "def unzip_file(zipped_file: Path, unzip_path: Path, keep: bool = False) -> List[Path]:\n",
    "    \"\"\"\n",
    "    解压单个 zip 文件。\n",
    "    Unzip a zip file to ten temporary directory defined in <CONFIGS>, and return the unzipped file path.\n",
    "    :param zipped_file:   Path，待解压文件的路径。\n",
    "    :param unzip_path: Path，保存被解压出来的文件的路径。\n",
    "    :param keep:       bool，保留待解压文件的话，取值 True，否则解压完成后删除待解压文件。\n",
    "    :return: list，被解压出来的文件的路径（Path）的列表。\n",
    "    \"\"\"\n",
    "    \n",
    "    # 如果参数 <zip_file> 不存在，引发异常。\n",
    "    if not zipped_file.exists():\n",
    "        raise FileNotFoundError(f'<{zipped_file}> 不存在。')\n",
    "\n",
    "    # 如果参数 <unzip_path> 不存在，引发异常。\n",
    "    if not unzip_path.exists():\n",
    "        raise FileNotFoundError(f'<{unzip_path}> 不存在。')\n",
    "\n",
    "    # 用 zipfile 模块的 ZipFile 打开待解压文件。\n",
    "    zip_file = zipfile.ZipFile(zipped_file, 'r')\n",
    "    \n",
    "    # 生成解压文件列表\n",
    "    result: List[Path] = [unzip_path.joinpath(filename) for filename in zip_file.namelist()]\n",
    "    \n",
    "    # 解压文件。\n",
    "    zip_file.extractall(unzip_path)\n",
    "    \n",
    "    # 关闭文件。\n",
    "    zip_file.close()\n",
    "    \n",
    "    # 删除待解压文件\n",
    "    if not keep:\n",
    "        zipped_file.unlink()\n",
    "    \n",
    "    # 返回解压出来的文件列表\n",
    "    return result\n",
    "\n",
    "# 测试\n",
    "\n",
    "# 测试用待解压文件\n",
    "# 如果你的 RESULT\\ 文件夹没有 CFFEX_2020-08.zip 文件，去中金所下载一个。\n",
    "# 其实只要是个 zip 文件就行，可能需要修改你的 zip 文件的名字，或者下面代码中的文件名。\n",
    "test_zipped_file: Path = PATH_FOR_RESULT.joinpath('CFFEX_2020-08.zip')\n",
    "\n",
    "# 测试用解压路径\n",
    "test_unzip_path: Path = PATH_FOR_RESULT.joinpath('unzipped')\n",
    "\n",
    "# 如果解压路径不存在，创建它。\n",
    "if not test_unzip_path.exists():\n",
    "    test_unzip_path.mkdir()\n",
    "\n",
    "# 测试\n",
    "unzip_file(\n",
    "    zipped_file=test_zipped_file,\n",
    "    unzip_path=test_unzip_path,\n",
    "    keep=True\n",
    ")"
   ]
  },
  {
   "cell_type": "markdown",
   "id": "7b315ebf-6f65-4f1c-a735-2c46a8b247df",
   "metadata": {},
   "source": [
    "完美！\n",
    "\n",
    "下一步，我们着手[读取中金所历史数据](read_cffex_history_data.ipynb)。"
   ]
  },
  {
   "cell_type": "code",
   "execution_count": null,
   "id": "d3e3e266-ad96-4828-b5f7-7e357facb2e2",
   "metadata": {},
   "outputs": [],
   "source": []
  }
 ],
 "metadata": {
  "kernelspec": {
   "display_name": "Python 3 (ipykernel)",
   "language": "python",
   "name": "python3"
  },
  "language_info": {
   "codemirror_mode": {
    "name": "ipython",
    "version": 3
   },
   "file_extension": ".py",
   "mimetype": "text/x-python",
   "name": "python",
   "nbconvert_exporter": "python",
   "pygments_lexer": "ipython3",
   "version": "3.8.9"
  }
 },
 "nbformat": 4,
 "nbformat_minor": 5
}

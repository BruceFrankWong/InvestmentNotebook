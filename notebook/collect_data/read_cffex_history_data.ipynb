{
 "cells": [
  {
   "cell_type": "code",
   "execution_count": 1,
   "id": "b05702b6-62aa-40c9-943e-6e5866c17774",
   "metadata": {},
   "outputs": [],
   "source": [
    "import os\n",
    "from pathlib import Path\n",
    "\n",
    "NOTEBOOK_PATH: Path = Path(os.path.abspath(''))\n",
    "\n",
    "# print(f'当前运行在：{NOTEBOOK_PATH} 目录下。')\n",
    "\n",
    "PATH_FOR_RESULT: Path = NOTEBOOK_PATH.joinpath('RESULT')\n",
    "\n",
    "if not PATH_FOR_RESULT.exists():\n",
    "    PATH_FOR_RESULT.mkdir()"
   ]
  },
  {
   "cell_type": "markdown",
   "id": "6c46c412-bb90-4fb4-b1d0-eff9655e8267",
   "metadata": {},
   "source": [
    "# 读取中国金融期货交易所（中金所）的历史数据\n",
    "\n",
    "解压出来的中金所数据，是 csv 格式的。\n",
    "\n",
    "读取 csv 文件，使用 Python 的 csv 模块即可。"
   ]
  },
  {
   "cell_type": "code",
   "execution_count": 2,
   "id": "0394e7c5-6531-42da-8c06-496b7469829d",
   "metadata": {},
   "outputs": [
    {
     "name": "stdout",
     "output_type": "stream",
     "text": [
      "{'exchange': 'CFFEX', 'date': datetime.date(2020, 8, 20), 'symbol': 'IC2008', 'open': 6600.0, 'high': 6663.4, 'low': 6564.6, 'close': 6587.2, 'settlement': 6589.0, 'previous_settlement': 6662.0, 'volume': 51483, 'amount': 6808092.2, 'open_interest': 28408, 'change_on_close': -74.8, 'change_on_settlement': -73.0, 'change_on_open_interest': -26567}\n",
      "{'exchange': 'CFFEX', 'date': datetime.date(2020, 8, 20), 'symbol': 'IC2009', 'open': 6488.0, 'high': 6569.6, 'low': 6460.2, 'close': 6495.8, 'settlement': 6489.8, 'previous_settlement': 6560.4, 'volume': 94511, 'amount': 12303295.716, 'open_interest': 119772, 'change_on_close': -64.6, 'change_on_settlement': -70.6, 'change_on_open_interest': 26458}\n",
      "{'exchange': 'CFFEX', 'date': datetime.date(2020, 8, 20), 'symbol': 'IC2012', 'open': 6287.8, 'high': 6351.4, 'low': 6250.0, 'close': 6276.4, 'settlement': 6273.8, 'previous_settlement': 6348.8, 'volume': 16775, 'amount': 2112116.892, 'open_interest': 52079, 'change_on_close': -72.4, 'change_on_settlement': -75.0, 'change_on_open_interest': 2345}\n",
      "{'exchange': 'CFFEX', 'date': datetime.date(2020, 8, 20), 'symbol': 'IC2103', 'open': 6110.0, 'high': 6167.0, 'low': 6071.4, 'close': 6105.0, 'settlement': 6096.8, 'previous_settlement': 6169.4, 'volume': 4852, 'amount': 593608.06, 'open_interest': 16818, 'change_on_close': -64.4, 'change_on_settlement': -72.6, 'change_on_open_interest': 506}\n",
      "{'exchange': 'CFFEX', 'date': datetime.date(2020, 8, 20), 'symbol': 'IF2008', 'open': 4691.2, 'high': 4717.8, 'low': 4656.6, 'close': 4682.8, 'settlement': 4675.6, 'previous_settlement': 4750.4, 'volume': 50653, 'amount': 7122992.238, 'open_interest': 21353, 'change_on_close': -67.6, 'change_on_settlement': -74.8, 'change_on_open_interest': -27202}\n",
      "{'exchange': 'CFFEX', 'date': datetime.date(2020, 8, 20), 'symbol': 'IF2009', 'open': 4670.0, 'high': 4691.0, 'low': 4631.6, 'close': 4659.6, 'settlement': 4649.8, 'previous_settlement': 4725.0, 'volume': 92493, 'amount': 12928654.584, 'open_interest': 117004, 'change_on_close': -65.4, 'change_on_settlement': -75.2, 'change_on_open_interest': 18808}\n",
      "{'exchange': 'CFFEX', 'date': datetime.date(2020, 8, 20), 'symbol': 'IF2012', 'open': 4605.0, 'high': 4632.0, 'low': 4568.0, 'close': 4595.0, 'settlement': 4586.6, 'previous_settlement': 4660.4, 'volume': 13460, 'amount': 1857242.454, 'open_interest': 36997, 'change_on_close': -65.4, 'change_on_settlement': -73.8, 'change_on_open_interest': 1942}\n",
      "{'exchange': 'CFFEX', 'date': datetime.date(2020, 8, 20), 'symbol': 'IF2103', 'open': 4600.0, 'high': 4600.0, 'low': 4523.0, 'close': 4547.2, 'settlement': 4541.0, 'previous_settlement': 4617.8, 'volume': 2006, 'amount': 274033.572, 'open_interest': 4721, 'change_on_close': -70.6, 'change_on_settlement': -76.8, 'change_on_open_interest': 307}\n",
      "{'exchange': 'CFFEX', 'date': datetime.date(2020, 8, 20), 'symbol': 'IH2008', 'open': 3274.0, 'high': 3280.8, 'low': 3245.4, 'close': 3263.4, 'settlement': 3257.8, 'previous_settlement': 3314.4, 'volume': 20542, 'amount': 2011884.15, 'open_interest': 12290, 'change_on_close': -51.0, 'change_on_settlement': -56.6, 'change_on_open_interest': -9252}\n",
      "{'exchange': 'CFFEX', 'date': datetime.date(2020, 8, 20), 'symbol': 'IH2009', 'open': 3272.6, 'high': 3277.0, 'low': 3241.0, 'close': 3258.4, 'settlement': 3253.8, 'previous_settlement': 3312.4, 'volume': 29325, 'amount': 2867433.534, 'open_interest': 41659, 'change_on_close': -54.0, 'change_on_settlement': -58.6, 'change_on_open_interest': 4339}\n",
      "{'exchange': 'CFFEX', 'date': datetime.date(2020, 8, 20), 'symbol': 'IH2012', 'open': 3253.0, 'high': 3263.6, 'low': 3225.0, 'close': 3241.0, 'settlement': 3237.2, 'previous_settlement': 3295.0, 'volume': 5934, 'amount': 577731.198, 'open_interest': 18403, 'change_on_close': -54.0, 'change_on_settlement': -57.8, 'change_on_open_interest': -64}\n",
      "{'exchange': 'CFFEX', 'date': datetime.date(2020, 8, 20), 'symbol': 'IH2103', 'open': 3245.2, 'high': 3253.6, 'low': 3215.6, 'close': 3226.4, 'settlement': 3225.4, 'previous_settlement': 3284.0, 'volume': 930, 'amount': 90222.93, 'open_interest': 3199, 'change_on_close': -57.6, 'change_on_settlement': -58.6, 'change_on_open_interest': 171}\n",
      "{'exchange': 'CFFEX', 'date': datetime.date(2020, 8, 20), 'symbol': 'T2009', 'open': 99.0, 'high': 99.32, 'low': 98.815, 'close': 98.825, 'settlement': 98.84, 'previous_settlement': 99.08, 'volume': 22704, 'amount': 2247075.925, 'open_interest': 26742, 'change_on_close': -0.255, 'change_on_settlement': -0.24, 'change_on_open_interest': -5873}\n",
      "{'exchange': 'CFFEX', 'date': datetime.date(2020, 8, 20), 'symbol': 'T2012', 'open': 98.43, 'high': 98.5, 'low': 98.11, 'close': 98.185, 'settlement': 98.205, 'previous_settlement': 98.5, 'volume': 56518, 'amount': 5556167.57, 'open_interest': 69429, 'change_on_close': -0.315, 'change_on_settlement': -0.295, 'change_on_open_interest': 7679}\n",
      "{'exchange': 'CFFEX', 'date': datetime.date(2020, 8, 20), 'symbol': 'T2103', 'open': 98.04, 'high': 98.095, 'low': 97.675, 'close': 97.815, 'settlement': 97.77, 'previous_settlement': 98.09, 'volume': 156, 'amount': 15259.92, 'open_interest': 988, 'change_on_close': -0.275, 'change_on_settlement': -0.32, 'change_on_open_interest': 80}\n",
      "{'exchange': 'CFFEX', 'date': datetime.date(2020, 8, 20), 'symbol': 'TF2009', 'open': 100.525, 'high': 100.64, 'low': 100.37, 'close': 100.44, 'settlement': 100.43, 'previous_settlement': 100.56, 'volume': 7293, 'amount': 732792.645, 'open_interest': 10544, 'change_on_close': -0.12, 'change_on_settlement': -0.13, 'change_on_open_interest': -2506}\n",
      "{'exchange': 'CFFEX', 'date': datetime.date(2020, 8, 20), 'symbol': 'TF2012', 'open': 100.06, 'high': 100.1, 'low': 99.895, 'close': 99.935, 'settlement': 99.945, 'previous_settlement': 100.14, 'volume': 19778, 'amount': 1977464.155, 'open_interest': 30000, 'change_on_close': -0.205, 'change_on_settlement': -0.195, 'change_on_open_interest': 1420}\n",
      "{'exchange': 'CFFEX', 'date': datetime.date(2020, 8, 20), 'symbol': 'TF2103', 'open': 99.685, 'high': 99.705, 'low': 99.59, 'close': 99.59, 'settlement': 99.605, 'previous_settlement': 99.775, 'volume': 16, 'amount': 1594.38, 'open_interest': 472, 'change_on_close': -0.185, 'change_on_settlement': -0.17, 'change_on_open_interest': 15}\n",
      "{'exchange': 'CFFEX', 'date': datetime.date(2020, 8, 20), 'symbol': 'TS2009', 'open': 100.585, 'high': 100.61, 'low': 100.52, 'close': 100.52, 'settlement': 100.54, 'previous_settlement': 100.6, 'volume': 4322, 'amount': 869217.3, 'open_interest': 9987, 'change_on_close': -0.08, 'change_on_settlement': -0.06, 'change_on_open_interest': -650}\n",
      "{'exchange': 'CFFEX', 'date': datetime.date(2020, 8, 20), 'symbol': 'TS2012', 'open': 100.39, 'high': 100.4, 'low': 100.325, 'close': 100.33, 'settlement': 100.335, 'previous_settlement': 100.405, 'volume': 2985, 'amount': 599085.26, 'open_interest': 10706, 'change_on_close': -0.075, 'change_on_settlement': -0.07, 'change_on_open_interest': 472}\n",
      "{'exchange': 'CFFEX', 'date': datetime.date(2020, 8, 20), 'symbol': 'TS2103', 'open': 100.19, 'high': 100.19, 'low': 100.16, 'close': 100.16, 'settlement': 100.16, 'previous_settlement': 100.23, 'volume': 11, 'amount': 2203.63, 'open_interest': 159, 'change_on_close': -0.07, 'change_on_settlement': -0.07, 'change_on_open_interest': 5}\n"
     ]
    }
   ],
   "source": [
    "from typing import Dict, List, Any\n",
    "import datetime as dt\n",
    "import csv\n",
    "\n",
    "def read_cffex_data(data_file: Path) -> List[Dict[str, Any]]:\n",
    "    \"\"\"\n",
    "    读取中国金融期货交易所（中金所，CFFEX）的历史交易数据 (csv 文件)。\n",
    "    :param data_file: Path，待读取的文件。\n",
    "    :return: list，每一个项都是一个以 str 为 key 的字典。\n",
    "    \"\"\"\n",
    "    result: List[Dict[str, Any]] = []\n",
    "    \n",
    "    # 从文件名中获得日期。\n",
    "    filename: str = data_file.name[:8]\n",
    "    date: dt.date = dt.date(\n",
    "        year=int(filename[:4]),\n",
    "        month=int(filename[4:6]),\n",
    "        day=int(filename[6:8])\n",
    "    )\n",
    "    \n",
    "    # 打开 <data_file> 读取数据。\n",
    "    with open(data_file, mode='r', encoding='gbk') as csv_file:\n",
    "        reader = csv.DictReader(csv_file)\n",
    "        \n",
    "        # 按行循环读取。\n",
    "        for row in reader:\n",
    "            \n",
    "            # 忽略 <合约代码> 列为 <小计>、<合计> 的行\n",
    "            if row['合约代码'] == '小计' or row['合约代码'] == '合计' or '-' in row['合约代码']:\n",
    "                continue\n",
    "            try:\n",
    "                result.append(\n",
    "                    {\n",
    "                        'exchange': 'CFFEX',\n",
    "                        'date': date,\n",
    "                        'symbol': row['合约代码'].strip(),\n",
    "                        'open': float(row['今开盘']) if len(row['今开盘']) > 0 else 0.0,\n",
    "                        'high': float(row['最高价']) if len(row['最高价']) > 0 else 0.0,\n",
    "                        'low': float(row['最低价']) if len(row['最低价']) > 0 else 0.0,\n",
    "                        'close': float(row['今收盘']) if len(row['今收盘']) > 0 else 0.0,\n",
    "                        'settlement': float(row['今结算']),\n",
    "                        'previous_settlement': float(row['前结算']),\n",
    "                        'volume': int(row['成交量']) if len(row['成交量']) > 0 else 0,\n",
    "                        'amount': float(row['成交金额']) if len(row['成交金额']) > 0 else 0.0,\n",
    "                        'open_interest': int(float(row['持仓量'])),\n",
    "                        'change_on_close': float(row['涨跌1']),\n",
    "                        'change_on_settlement': float(row['涨跌2']),\n",
    "                        'change_on_open_interest': int(float(row['持仓变化'])),\n",
    "                    }\n",
    "                )\n",
    "            except ValueError as e:\n",
    "                print(f'读取文件 {csv_file} 时发生错误。发生错误的行内容为：\\n\\t{row}')\n",
    "    return result\n",
    "\n",
    "# 测试\n",
    "# 用前面第4轮解压的文件，选了一个离现在比较近的日期，内容比较多一些。\n",
    "test_data_file: Path = PATH_FOR_RESULT.joinpath('unzipped', '20200820_1.csv')\n",
    "\n",
    "for item in read_cffex_data(test_data_file):\n",
    "    print(item)"
   ]
  },
  {
   "cell_type": "markdown",
   "id": "8cc3930c-df34-4466-b4c7-59748b309cac",
   "metadata": {},
   "source": [
    "下一步，我们着手把数据[写入数据库](save_to_database.ipynb)。"
   ]
  },
  {
   "cell_type": "code",
   "execution_count": null,
   "id": "b5802bc4-59cf-404c-87a7-6cf10cc92cea",
   "metadata": {},
   "outputs": [],
   "source": []
  }
 ],
 "metadata": {
  "kernelspec": {
   "display_name": "Python 3 (ipykernel)",
   "language": "python",
   "name": "python3"
  },
  "language_info": {
   "codemirror_mode": {
    "name": "ipython",
    "version": 3
   },
   "file_extension": ".py",
   "mimetype": "text/x-python",
   "name": "python",
   "nbconvert_exporter": "python",
   "pygments_lexer": "ipython3",
   "version": "3.8.9"
  }
 },
 "nbformat": 4,
 "nbformat_minor": 5
}

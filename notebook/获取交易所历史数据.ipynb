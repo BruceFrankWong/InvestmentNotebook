{
 "cells": [
  {
   "cell_type": "markdown",
   "id": "3021926f-5f49-4220-8e98-7591c23c4b9e",
   "metadata": {},
   "source": [
    "# 获取交易所历史数据\n",
    "\n",
    "交易所公布了历史数据（日线）以及持仓量等等不少数据，手工下载非常消耗时间。\n",
    "\n",
    "我们可是写一个简单的爬虫来辅助处理。\n",
    "\n",
    "需要使用 requests 库，这是一个第三方库，安装：\n",
    "\n",
    "`pip install requests`"
   ]
  },
  {
   "cell_type": "code",
   "execution_count": 1,
   "id": "b2e8d45f-e8ba-4a91-8aa9-0e3b704b586b",
   "metadata": {},
   "outputs": [],
   "source": [
    "# 处理 JupyterLab 的路径问题。\n",
    "import sys\n",
    "sys.path.insert(0, '..')"
   ]
  },
  {
   "cell_type": "markdown",
   "id": "dcb9d1b8-3a36-4bd0-9c36-b9ca4db2e1c9",
   "metadata": {},
   "source": [
    "## 上期所\n",
    "\n",
    "在[上期所官网](http://www.shfe.com.cn/)点击顶部菜单（如下图中红框所示）：\n",
    "\n",
    "![上期所历史数据获取1](../pictures/shfe_data_1.png)\n",
    "\n",
    "然后在出现的页面中，更换下拉框中的年份并点击按钮（如下图中红框所示）。\n",
    "\n",
    "![上期所历史数据获取2](../pictures/shfe_data_2.png)\n",
    "\n",
    "多试几次，可以发现历史数据的url是：\n",
    "\n",
    "`\n",
    "  http://www.shfe.com.cn/historyData/MarketData_Year_XXXX.zip\n",
    "`\n",
    "\n",
    "其中 XXXX 是四位数的年份数字。\n",
    "\n",
    "于是我们可以用以下代码来获得上期所历史数据："
   ]
  },
  {
   "cell_type": "code",
   "execution_count": 2,
   "id": "f8d215e4-ced8-4ac3-a096-2033c34f12d1",
   "metadata": {},
   "outputs": [],
   "source": [
    "from pathlib import Path\n",
    "import datetime as dt\n",
    "\n",
    "import requests\n",
    "\n",
    "from src.utility import NOTEBOOK_PATH\n",
    "\n",
    "\n",
    "def download_shfe_history_data(year: int, save_path: Path) -> None:\n",
    "    \"\"\"\n",
    "    下载上海期货交易所的历史数据。\n",
    "    :param year: 需要下载数据的年份。\n",
    "    :param save_path: 保存的位置。\n",
    "    :return: None.\n",
    "    \"\"\"\n",
    "\n",
    "    # 上期所历史数据 url.\n",
    "    url: str = 'http://www.shfe.com.cn/historyData/MarketData_Year_{year:4d}.zip'\n",
    "\n",
    "    # 上期所历史数据从 2009 年开始提供。\n",
    "    start_year: int = 2009\n",
    "    # 如果参数 <year> 小于 2009 或者大于当前年份，引发异常。\n",
    "    if year < start_year or year > dt.date.today().year:\n",
    "        raise ValueError(f'The year of SHFE history data should be in range {start_year} ~ {dt.date.today().year}.')\n",
    "\n",
    "    # 如果参数<save_path>不存在，引发异常。\n",
    "    if not save_path.exists():\n",
    "        raise FileNotFoundError(f'{save_path} not existed.')\n",
    "    \n",
    "    # 下载。\n",
    "    response = requests.get(url.format(year=year))\n",
    "    \n",
    "    # 如果下载不顺利，引发异常。\n",
    "    if response.status_code != 200:\n",
    "        raise requests.exceptions.HTTPError(f'Error in downloading <{url.format(year=year)}>.')\n",
    "    \n",
    "    # 保存文件。\n",
    "    with open(save_path.joinpath(f'SHFE_{year:4d}.zip'), 'wb') as f:\n",
    "        f.write(response.content)\n",
    "\n",
    "# 保存位置为代码仓库下的 temp/ 文件夹。\n",
    "download_shfe_history_data(2020, NOTEBOOK_PATH.parent.joinpath('temp'))"
   ]
  },
  {
   "cell_type": "markdown",
   "id": "734c5743-c663-4475-a3ef-35d1b39249c1",
   "metadata": {},
   "source": [
    "你应该可以在代码仓库的 temp/ 文件夹下面看到名为 <SHFE_2020.zip> 文件。\n",
    "\n",
    "我们可以自动化下载从2009年（上期所开始提供数据的年份）到现在的所有历史数据："
   ]
  },
  {
   "cell_type": "code",
   "execution_count": 3,
   "id": "c6ca0631-eb79-460b-a837-259f3f347b37",
   "metadata": {},
   "outputs": [],
   "source": [
    "def download_all_shfe_history_data(save_path: Path) -> None:\n",
    "    \"\"\"\n",
    "    下载上海期货交易所的全部历史数据。\n",
    "    :param save_path: 保存的位置。\n",
    "    :return: None.\n",
    "    \"\"\"\n",
    "    start_year: int = 2009\n",
    "    this_year: int = dt.date.today().year\n",
    "    for year in range(start_year, this_year + 1):\n",
    "        download_shfe_history_data(year, save_path)\n",
    "\n",
    "download_all_shfe_history_data(NOTEBOOK_PATH.parent.joinpath('temp'))"
   ]
  },
  {
   "cell_type": "markdown",
   "id": "5328b738-ced1-467b-9574-6e9b600c26ef",
   "metadata": {},
   "source": [
    "很迅速，而且有条理，比手工下载强多了。"
   ]
  },
  {
   "cell_type": "code",
   "execution_count": null,
   "id": "90a619a2-9bf1-4a53-8f27-f19f662eb5dd",
   "metadata": {},
   "outputs": [],
   "source": []
  }
 ],
 "metadata": {
  "kernelspec": {
   "display_name": "Python 3 (ipykernel)",
   "language": "python",
   "name": "python3"
  },
  "language_info": {
   "codemirror_mode": {
    "name": "ipython",
    "version": 3
   },
   "file_extension": ".py",
   "mimetype": "text/x-python",
   "name": "python",
   "nbconvert_exporter": "python",
   "pygments_lexer": "ipython3",
   "version": "3.8.9"
  }
 },
 "nbformat": 4,
 "nbformat_minor": 5
}

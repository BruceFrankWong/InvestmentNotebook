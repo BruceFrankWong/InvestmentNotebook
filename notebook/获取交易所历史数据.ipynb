{
 "cells": [
  {
   "cell_type": "markdown",
   "id": "3021926f-5f49-4220-8e98-7591c23c4b9e",
   "metadata": {},
   "source": [
    "# 获取交易所历史数据\n",
    "\n",
    "交易所公布了历史数据（日线）以及持仓量等等不少数据，手工下载非常消耗时间。\n",
    "\n",
    "我们可是写一个简单的爬虫来辅助处理。\n",
    "\n",
    "需要使用 requests 库，这是一个第三方库，安装：\n",
    "\n",
    "`pip install requests`"
   ]
  },
  {
   "cell_type": "code",
   "execution_count": 1,
   "id": "b2e8d45f-e8ba-4a91-8aa9-0e3b704b586b",
   "metadata": {},
   "outputs": [],
   "source": [
    "# 处理 JupyterLab 的路径问题。\n",
    "import sys\n",
    "sys.path.insert(0, '..')"
   ]
  },
  {
   "cell_type": "markdown",
   "id": "dcb9d1b8-3a36-4bd0-9c36-b9ca4db2e1c9",
   "metadata": {},
   "source": [
    "## 上期所\n",
    "\n",
    "在[上期所官网](http://www.shfe.com.cn/)点击顶部菜单（如下图中红框所示）：\n",
    "\n",
    "![上期所历史数据获取1](../pictures/shfe_data_1.png)\n",
    "\n",
    "然后在出现的页面中，更换下拉框中的年份并点击按钮（如下图中红框所示）。\n",
    "\n",
    "![上期所历史数据获取2](../pictures/shfe_data_2.png)\n",
    "\n",
    "多试几次，可以发现历史数据的url是：\n",
    "\n",
    "`\n",
    "  http://www.shfe.com.cn/historyData/MarketData_Year_XXXX.zip\n",
    "`\n",
    "\n",
    "其中 XXXX 是四位数的年份数字。\n",
    "\n",
    "于是我们可以用以下代码来获得上期所历史数据："
   ]
  },
  {
   "cell_type": "code",
   "execution_count": 2,
   "id": "f8d215e4-ced8-4ac3-a096-2033c34f12d1",
   "metadata": {},
   "outputs": [],
   "source": [
    "from pathlib import Path\n",
    "import datetime as dt\n",
    "\n",
    "import requests\n",
    "\n",
    "from src.utility import NOTEBOOK_PATH\n",
    "\n",
    "\n",
    "def download_shfe_history_data(year: int, save_path: Path) -> None:\n",
    "    \"\"\"\n",
    "    下载上海期货交易所（上期所，SHFE）的历史数据。\n",
    "    :param year: 需要下载数据的年份。\n",
    "    :param save_path: 保存的位置。\n",
    "    :return: None.\n",
    "    \"\"\"\n",
    "\n",
    "    # 上期所历史数据 url.\n",
    "    url: str = 'http://www.shfe.com.cn/historyData/MarketData_Year_{year:4d}.zip'\n",
    "\n",
    "    # 上期所历史数据从 2009 年开始提供。\n",
    "    start_year: int = 2009\n",
    "    \n",
    "    # 如果参数 <year> 小于 2009 或者大于当前年份，引发异常。\n",
    "    if year < start_year:\n",
    "        raise ValueError(f'上期所历史数据自{start_year:4d}年起提供。')\n",
    "    if year > dt.date.today().year:\n",
    "        raise ValueError(f'{year}年是未来日期。')\n",
    "\n",
    "    # 如果参数<save_path>不存在，引发异常。\n",
    "    if not save_path.exists():\n",
    "        raise FileNotFoundError(f'目录 {save_path} 不存在。')\n",
    "    \n",
    "    # 下载。\n",
    "    response = requests.get(url.format(year=year))\n",
    "    \n",
    "    # 如果下载不顺利，引发异常。\n",
    "    if response.status_code != 200:\n",
    "        raise requests.exceptions.HTTPError(f'下载 <{url.format(year=year)}> 时发生错误。')\n",
    "    \n",
    "    # 保存文件。\n",
    "    with open(save_path.joinpath(f'SHFE_{year:4d}.zip'), 'wb') as f:\n",
    "        f.write(response.content)\n",
    "\n",
    "# 保存位置为代码仓库下的 temp/ 文件夹。\n",
    "download_shfe_history_data(2020, NOTEBOOK_PATH.parent.joinpath('temp'))"
   ]
  },
  {
   "cell_type": "markdown",
   "id": "734c5743-c663-4475-a3ef-35d1b39249c1",
   "metadata": {},
   "source": [
    "你应该可以在代码仓库的 temp/ 文件夹下面看到名为 <SHFE_2020.zip> 文件。\n",
    "\n",
    "我们可以自动化下载从2009年（上期所开始提供数据的年份）到现在的所有历史数据："
   ]
  },
  {
   "cell_type": "code",
   "execution_count": 3,
   "id": "c6ca0631-eb79-460b-a837-259f3f347b37",
   "metadata": {},
   "outputs": [],
   "source": [
    "def download_all_shfe_history_data(save_path: Path) -> None:\n",
    "    \"\"\"\n",
    "    下载上海期货交易所（上期所，SHFE）的全部历史数据。\n",
    "    :param save_path: 保存的位置。\n",
    "    :return: None.\n",
    "    \"\"\"\n",
    "    start_year: int = 2009\n",
    "    this_year: int = dt.date.today().year\n",
    "    for year in range(start_year, this_year + 1):\n",
    "        download_shfe_history_data(year, save_path)\n",
    "\n",
    "download_all_shfe_history_data(NOTEBOOK_PATH.parent.joinpath('temp'))"
   ]
  },
  {
   "cell_type": "markdown",
   "id": "5328b738-ced1-467b-9574-6e9b600c26ef",
   "metadata": {},
   "source": [
    "很迅速，而且有条理，比手工下载强多了。"
   ]
  },
  {
   "cell_type": "markdown",
   "id": "f048f06b-7800-4a1d-87db-4884f9afa3d6",
   "metadata": {},
   "source": [
    "## 中金所\n",
    "\n",
    "[中金所官网](http://www.cffex.com.cn/)顶部菜单“数据” -> “历史数据下载”。\n",
    "\n",
    "中金所数据是按月提供的。\n",
    "\n",
    "月份有点讨厌，因为年份比较简单，就是一个数字。月份的话，需要提供年份、月份两个数字，而这两个数字的逻辑关系判断很繁琐。\n",
    "\n",
    "简单起见，用 Python 的 datetime 模块下面的 date 数据类型，只是忽略日期。"
   ]
  },
  {
   "cell_type": "code",
   "execution_count": 7,
   "id": "3df9837c-453a-4578-af9e-b410fb24a8be",
   "metadata": {},
   "outputs": [],
   "source": [
    "def download_cffex_history_data(year: int, month: int, save_path: Path) -> None:\n",
    "    \"\"\"\n",
    "    下载中国金融期货交易所（中金所，CFFEX）的历史数据。\n",
    "    :param year: 需要下载数据的年份。\n",
    "    :param month: 需要下载数据的月份。\n",
    "    :param save_path: 保存的位置。\n",
    "    :return: None.\n",
    "    \"\"\"\n",
    "    \n",
    "    # 中金所历史数据 url 模板。\n",
    "    url: str = 'http://www.cffex.com.cn/sj/historysj/{year:4d}{month:02d}/zip/{year:4d}{month:02d}.zip'\n",
    "\n",
    "    # 中金所历史数据从 2010 年 4 月（股指期货）开始提供。\n",
    "    start_year: int = 2010\n",
    "    start_month: int = 4\n",
    "    today: dt.date = dt.date.today()\n",
    "\n",
    "    # 如果参数 <year> 和 <month> 不在合理范围，引发异常。\n",
    "    if month < 1 or month > 12:\n",
    "        raise ValueError(f'参数 <month> 取值范围在 [1, 12]。')\n",
    "    if year < start_year or (year == start_year and month < start_month):\n",
    "        raise ValueError(f'中金所历史数据自{start_year:4d}年{start_month:02d}月起开始提供。')\n",
    "    if year > today.year or (year == today.year and month > today.month):\n",
    "        raise ValueError(f'{year:4d}年{month:02d}月是未来日期。')\n",
    "\n",
    "    # 如果参数<save_path>不存在，引发异常。\n",
    "    if not save_path.exists():\n",
    "        raise FileNotFoundError(f'目录 {save_path} 不存在。')\n",
    "\n",
    "    # 下载。\n",
    "    response = requests.get(url.format(year=year, month=month))\n",
    "    \n",
    "    # 如果下载不顺利，引发异常。\n",
    "    if response.status_code != 200:\n",
    "        raise requests.exceptions.HTTPError(\n",
    "            f'下载 <{url.format(year=year, month=month)}> 时发生错误。'\n",
    "        )\n",
    "\n",
    "    # 保存文件。\n",
    "    with open(save_path.joinpath(f'CFFEX_{year:4d}-{month:02d}.zip'), 'wb') as f:\n",
    "        f.write(response.content)\n",
    "\n",
    "# 保存位置为代码仓库下的 temp/ 文件夹。\n",
    "download_cffex_history_data(\n",
    "    year=2020,\n",
    "    month=8,\n",
    "    save_path=NOTEBOOK_PATH.parent.joinpath('temp')\n",
    ")"
   ]
  },
  {
   "cell_type": "markdown",
   "id": "b4859e18-21af-4109-81fe-a4f07f300fbe",
   "metadata": {},
   "source": [
    "自动化下载从2010年04月（股指期货上市，中金所开始提供数据的时间）到现在的所有历史数据："
   ]
  },
  {
   "cell_type": "code",
   "execution_count": 8,
   "id": "9b023470-9bd9-4b64-b6d1-1df588e3b7bc",
   "metadata": {},
   "outputs": [],
   "source": [
    "def download_all_cffex_history_data(save_path: Path) -> None:\n",
    "    \"\"\"\n",
    "    下载中国金融期货交易所（中金所，CFFEX）的全部历史数据。\n",
    "    :param save_path: 保存的位置。\n",
    "    :return: None.\n",
    "    \"\"\"\n",
    "    start_year: int = 2010\n",
    "    start_month: int = 4\n",
    "    today: dt.date = dt.date.today()\n",
    "    \n",
    "    for year in range(start_year, today.year + 1):\n",
    "        for month in range(1, 12 + 1):\n",
    "            if year == 2010 and month < start_month:\n",
    "                continue\n",
    "            if year == today.year and month > today.month:\n",
    "                break\n",
    "            download_cffex_history_data(year, month, save_path)\n",
    "\n",
    "download_all_cffex_history_data(NOTEBOOK_PATH.parent.joinpath('temp'))"
   ]
  },
  {
   "cell_type": "code",
   "execution_count": null,
   "id": "07edc42e-3181-4b3c-aa0c-035ad2806cb6",
   "metadata": {},
   "outputs": [],
   "source": []
  }
 ],
 "metadata": {
  "kernelspec": {
   "display_name": "Python 3 (ipykernel)",
   "language": "python",
   "name": "python3"
  },
  "language_info": {
   "codemirror_mode": {
    "name": "ipython",
    "version": 3
   },
   "file_extension": ".py",
   "mimetype": "text/x-python",
   "name": "python",
   "nbconvert_exporter": "python",
   "pygments_lexer": "ipython3",
   "version": "3.8.9"
  }
 },
 "nbformat": 4,
 "nbformat_minor": 5
}

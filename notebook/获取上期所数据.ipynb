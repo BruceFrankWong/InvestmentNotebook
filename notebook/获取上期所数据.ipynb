{
 "cells": [
  {
   "cell_type": "markdown",
   "id": "8c72371f-95a0-4415-a94a-01e57f68cf61",
   "metadata": {},
   "source": [
    "# 获取上海期货交易所（上期所）数据"
   ]
  },
  {
   "cell_type": "code",
   "execution_count": 1,
   "id": "1ff2a419-cede-4ddf-8a91-ea5a972e869f",
   "metadata": {},
   "outputs": [],
   "source": [
    "import os\n",
    "from pathlib import Path\n",
    "\n",
    "NOTEBOOK_PATH: Path = Path(os.path.abspath(''))\n",
    "PATH_FOR_RESULT: Path = NOTEBOOK_PATH.parent.joinpath('RESULT')"
   ]
  },
  {
   "cell_type": "markdown",
   "id": "208f96a8-ee05-4ad9-b798-362058f4e406",
   "metadata": {},
   "source": [
    "## 获取历史数据\n",
    "\n",
    "在[上期所官网](http://www.shfe.com.cn/)点击顶部菜单（如下图中红框所示）：\n",
    "\n",
    "![上期所历史数据获取1](../pictures/shfe_data_1.png)\n",
    "\n",
    "然后在出现的页面中，更换下拉框中的年份并点击按钮（如下图中红框所示）。\n",
    "\n",
    "![上期所历史数据获取2](../pictures/shfe_data_2.png)\n",
    "\n",
    "多试几次，可以发现历史数据的url是：\n",
    "\n",
    "`\n",
    "  http://www.shfe.com.cn/historyData/MarketData_Year_XXXX.zip\n",
    "`\n",
    "\n",
    "其中 XXXX 是四位数的年份数字。\n",
    "\n",
    "于是我们可以用以下代码来获得上期所历史数据："
   ]
  },
  {
   "cell_type": "code",
   "execution_count": 2,
   "id": "c8a0a0c5-b4bf-4c87-9110-78bfb4ee017c",
   "metadata": {},
   "outputs": [],
   "source": [
    "from pathlib import Path\n",
    "import datetime as dt\n",
    "\n",
    "import requests\n",
    "\n",
    "\n",
    "def download_shfe_history_data(save_path: Path, year: int) -> None:\n",
    "    \"\"\"\n",
    "    下载上海期货交易所（上期所，SHFE）的历史数据。\n",
    "    :param save_path: 保存的位置。\n",
    "    :param year: 需要下载数据的年份。\n",
    "    :return: None.\n",
    "    \"\"\"\n",
    "\n",
    "    # 上期所历史数据 url.\n",
    "    url: str = 'http://www.shfe.com.cn/historyData/MarketData_Year_{year:4d}.zip'\n",
    "\n",
    "    # 上期所历史数据从 2009 年开始提供。\n",
    "    start_year: int = 2009\n",
    "    \n",
    "    # 如果参数 <year> 小于 2009 或者大于当前年份，引发异常。\n",
    "    if year < start_year:\n",
    "        raise ValueError(f'上期所历史数据自{start_year:4d}年起提供。')\n",
    "    if year > dt.date.today().year:\n",
    "        raise ValueError(f'{year}年是未来日期。')\n",
    "\n",
    "    # 如果参数 <save_path> 不存在，引发异常。\n",
    "    if not save_path.exists():\n",
    "        raise FileNotFoundError(f'目录 {save_path} 不存在。')\n",
    "    \n",
    "    # 下载。\n",
    "    response = requests.get(url.format(year=year))\n",
    "    \n",
    "    # 如果下载不顺利，引发异常。\n",
    "    if response.status_code != 200:\n",
    "        raise requests.exceptions.HTTPError(f'下载 <{url.format(year=year)}> 时发生错误。')\n",
    "    \n",
    "    # 保存文件。\n",
    "    with open(save_path.joinpath(f'SHFE_{year:4d}.zip'), 'wb') as f:\n",
    "        f.write(response.content)\n",
    "\n",
    "# 测试。\n",
    "download_shfe_history_data(save_path=PATH_FOR_RESULT, year=2020)"
   ]
  },
  {
   "cell_type": "markdown",
   "id": "b7ce8ece-d060-4954-9c53-318cb1a956a0",
   "metadata": {},
   "source": [
    "你应该可以在代码仓库的 RESULT/ 文件夹下面看到名为 <SHFE_2020.zip> 文件。\n",
    "\n",
    "我们可以自动化下载从2009年（上期所开始提供数据的年份）到现在的所有历史数据："
   ]
  },
  {
   "cell_type": "code",
   "execution_count": 3,
   "id": "d7a20e18-4510-472e-b932-f617c7de5f1a",
   "metadata": {},
   "outputs": [],
   "source": [
    "def download_all_shfe_history_data(save_path: Path) -> None:\n",
    "    \"\"\"\n",
    "    下载上海期货交易所（上期所，SHFE）的全部历史数据。\n",
    "    :param save_path: 保存的位置。\n",
    "    :return: None.\n",
    "    \"\"\"\n",
    "    start_year: int = 2009\n",
    "    this_year: int = dt.date.today().year\n",
    "    for year in range(start_year, this_year + 1):\n",
    "        download_shfe_history_data(save_path=save_path, year=year)\n",
    "\n",
    "# 测试。\n",
    "download_all_shfe_history_data(save_path=PATH_FOR_RESULT)"
   ]
  },
  {
   "cell_type": "markdown",
   "id": "74288bff-fdb8-4b4b-b4c4-d0eae695d85c",
   "metadata": {},
   "source": [
    "很迅速，而且有条理，比手工下载强多了。"
   ]
  },
  {
   "cell_type": "code",
   "execution_count": null,
   "id": "000772cf-97e7-4cf8-acc0-b5db089aa666",
   "metadata": {},
   "outputs": [],
   "source": []
  }
 ],
 "metadata": {
  "kernelspec": {
   "display_name": "Python 3 (ipykernel)",
   "language": "python",
   "name": "python3"
  },
  "language_info": {
   "codemirror_mode": {
    "name": "ipython",
    "version": 3
   },
   "file_extension": ".py",
   "mimetype": "text/x-python",
   "name": "python",
   "nbconvert_exporter": "python",
   "pygments_lexer": "ipython3",
   "version": "3.8.9"
  }
 },
 "nbformat": 4,
 "nbformat_minor": 5
}

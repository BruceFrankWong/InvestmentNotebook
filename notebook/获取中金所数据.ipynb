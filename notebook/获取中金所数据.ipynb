{
 "cells": [
  {
   "cell_type": "markdown",
   "id": "ecb6d283-ac4b-4475-9972-12343e51fbc0",
   "metadata": {},
   "source": [
    "# 获取中国金融期货交易所（中金所）数据"
   ]
  },
  {
   "cell_type": "code",
   "execution_count": 1,
   "id": "2766b52f-4e5a-433f-a653-b5a5af412f3b",
   "metadata": {},
   "outputs": [],
   "source": [
    "import os\n",
    "from pathlib import Path\n",
    "\n",
    "NOTEBOOK_PATH: Path = Path(os.path.abspath(''))\n",
    "PATH_FOR_RESULT: Path = NOTEBOOK_PATH.parent.joinpath('RESULT')"
   ]
  },
  {
   "cell_type": "markdown",
   "id": "c4ea3242-7e0c-4dbf-a132-c330d5d0ec5f",
   "metadata": {},
   "source": [
    "## 获取历史数据\n",
    "\n",
    "[中金所官网](http://www.cffex.com.cn/)顶部菜单“数据” -> “历史数据下载”。\n",
    "\n",
    "按照上期所的方式观察，可以发现，中金所数据是按月提供的。"
   ]
  },
  {
   "cell_type": "code",
   "execution_count": 2,
   "id": "18f4b7e3-bccd-4d35-ace9-be6b0d62cdcf",
   "metadata": {},
   "outputs": [],
   "source": [
    "from pathlib import Path\n",
    "import datetime as dt\n",
    "\n",
    "import requests\n",
    "\n",
    "\n",
    "def download_cffex_history_data(save_path: Path, year: int, month: int) -> None:\n",
    "    \"\"\"\n",
    "    下载中国金融期货交易所（中金所，CFFEX）的历史数据。\n",
    "    :param save_path: 保存的位置。\n",
    "    :param year: 需要下载数据的年份。\n",
    "    :param month: 需要下载数据的月份。\n",
    "    :return: None.\n",
    "    \"\"\"\n",
    "    \n",
    "    # 中金所历史数据 url 模板。\n",
    "    url: str = 'http://www.cffex.com.cn/sj/historysj/{year:4d}{month:02d}/zip/{year:4d}{month:02d}.zip'\n",
    "\n",
    "    # 中金所历史数据从 2010 年 4 月（股指期货）开始提供。\n",
    "    start_year: int = 2010\n",
    "    start_month: int = 4\n",
    "    today: dt.date = dt.date.today()\n",
    "\n",
    "    # 如果参数 <year> 和 <month> 不在合理范围，引发异常。\n",
    "    if month < 1 or month > 12:\n",
    "        raise ValueError(f'参数 <month> 取值范围在 [1, 12]。')\n",
    "    if year < start_year or (year == start_year and month < start_month):\n",
    "        raise ValueError(f'中金所历史数据自{start_year:4d}年{start_month:02d}月起开始提供。')\n",
    "    if year > today.year or (year == today.year and month > today.month):\n",
    "        raise ValueError(f'{year:4d}年{month:02d}月是未来日期。')\n",
    "\n",
    "    # 如果参数 <save_path> 不存在，引发异常。\n",
    "    if not save_path.exists():\n",
    "        raise FileNotFoundError(f'目录 {save_path} 不存在。')\n",
    "\n",
    "    # 下载。\n",
    "    response = requests.get(url.format(year=year, month=month))\n",
    "    \n",
    "    # 如果下载不顺利，引发异常。\n",
    "    if response.status_code != 200:\n",
    "        raise requests.exceptions.HTTPError(\n",
    "            f'下载 <{url.format(year=year, month=month)}> 时发生错误。'\n",
    "        )\n",
    "\n",
    "    # 保存文件。\n",
    "    with open(save_path.joinpath(f'CFFEX_{year:4d}-{month:02d}.zip'), 'wb') as f:\n",
    "        f.write(response.content)\n",
    "\n",
    "# 测试。\n",
    "download_cffex_history_data(\n",
    "    save_path=PATH_FOR_RESULT,\n",
    "    year=2020,\n",
    "    month=8\n",
    ")"
   ]
  },
  {
   "cell_type": "markdown",
   "id": "7577b5ce-71c6-4179-802e-925ad4edfdb9",
   "metadata": {},
   "source": [
    "自动化下载从2010年04月（股指期货上市，中金所开始提供数据的时间）到现在的所有历史数据："
   ]
  },
  {
   "cell_type": "code",
   "execution_count": 3,
   "id": "088d120a-f1f5-45d3-942b-e8391cf0aded",
   "metadata": {},
   "outputs": [],
   "source": [
    "def download_all_cffex_history_data(save_path: Path) -> None:\n",
    "    \"\"\"\n",
    "    下载中国金融期货交易所（中金所，CFFEX）的全部历史数据。\n",
    "    :param save_path: 保存的位置。\n",
    "    :return: None.\n",
    "    \"\"\"\n",
    "    start_year: int = 2010\n",
    "    start_month: int = 4\n",
    "    today: dt.date = dt.date.today()\n",
    "    \n",
    "    for year in range(start_year, today.year + 1):\n",
    "        for month in range(1, 12 + 1):\n",
    "            if year == 2010 and month < start_month:\n",
    "                continue\n",
    "            if year == today.year and month > today.month:\n",
    "                break\n",
    "            download_cffex_history_data(save_path=save_path, year=year, month=month)\n",
    "\n",
    "# 测试。\n",
    "download_all_cffex_history_data(PATH_FOR_RESULT)"
   ]
  },
  {
   "cell_type": "markdown",
   "id": "8a7ed23c-1845-4b62-b7c2-03c5342fc525",
   "metadata": {},
   "source": [
    "Done."
   ]
  },
  {
   "cell_type": "code",
   "execution_count": null,
   "id": "20977c4f-6f12-486f-94d2-b1e7a462d494",
   "metadata": {},
   "outputs": [],
   "source": []
  }
 ],
 "metadata": {
  "kernelspec": {
   "display_name": "Python 3 (ipykernel)",
   "language": "python",
   "name": "python3"
  },
  "language_info": {
   "codemirror_mode": {
    "name": "ipython",
    "version": 3
   },
   "file_extension": ".py",
   "mimetype": "text/x-python",
   "name": "python",
   "nbconvert_exporter": "python",
   "pygments_lexer": "ipython3",
   "version": "3.8.9"
  }
 },
 "nbformat": 4,
 "nbformat_minor": 5
}

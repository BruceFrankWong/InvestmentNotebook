{
 "cells": [
  {
   "cell_type": "code",
   "execution_count": 1,
   "id": "3d824de8-ebd5-40f9-8e7d-7e5e1a8f069a",
   "metadata": {},
   "outputs": [],
   "source": [
    "import os\n",
    "from pathlib import Path\n",
    "\n",
    "NOTEBOOK_PATH: Path = Path(os.path.abspath(''))\n",
    "PATH_FOR_RESULT: Path = NOTEBOOK_PATH.parent.joinpath('RESULT')"
   ]
  },
  {
   "cell_type": "markdown",
   "id": "06c63c4f-a6b6-4431-8ef6-a92784565125",
   "metadata": {},
   "source": [
    "# 获取大连商品交易所（大商所）的历史数据\n",
    "\n",
    "[大商所官网](http://www.dce.com.cn/)顶部菜单“行情数据” -> “历史数据”。\n",
    "\n",
    "这次信息组织的更加麻烦，不仅分年份，还分品种。\n",
    "\n",
    "还是需要解析网页源码。"
   ]
  },
  {
   "cell_type": "code",
   "execution_count": 2,
   "id": "135622d5-2b85-4fd4-aa8d-acae877bb926",
   "metadata": {},
   "outputs": [
    {
     "name": "stdout",
     "output_type": "stream",
     "text": [
      "{2020: {'玉米': 'http://www.dce.com.cn/dalianshangpin/resource/cms/2021/01/2021013022310721941.xlsx', '玉米淀粉': 'http://www.dce.com.cn/dalianshangpin/resource/cms/2021/01/2021013022303925750.xlsx', '黄大豆1号': 'http://www.dce.com.cn/dalianshangpin/resource/cms/2021/01/2021013022293775777.xlsx', '黄大豆2号': 'http://www.dce.com.cn/dalianshangpin/resource/cms/2021/01/2021013022290225068.xlsx', '豆粕': 'http://www.dce.com.cn/dalianshangpin/resource/cms/2021/01/2021013022274187325.xlsx', '豆油': 'http://www.dce.com.cn/dalianshangpin/resource/cms/2021/01/2021013022262921602.xlsx', '棕榈油': 'http://www.dce.com.cn/dalianshangpin/resource/cms/2021/01/2021013022255680433.xlsx', '纤维板': 'http://www.dce.com.cn/dalianshangpin/resource/cms/2021/01/2021013022250662794.xlsx', '胶合板': 'http://www.dce.com.cn/dalianshangpin/resource/cms/2021/01/2021013022244890750.xlsx', '鸡蛋': 'http://www.dce.com.cn/dalianshangpin/resource/cms/2021/01/2021013022243031608.xlsx', '粳米': 'http://www.dce.com.cn/dalianshangpin/resource/cms/2021/01/2021013022241717445.xlsx', '线型低密度聚乙烯': 'http://www.dce.com.cn/dalianshangpin/resource/cms/2021/01/2021013022234479603.xlsx', '聚氯乙烯': 'http://www.dce.com.cn/dalianshangpin/resource/cms/2021/01/2021013022232092285.xlsx', '聚丙烯': 'http://www.dce.com.cn/dalianshangpin/resource/cms/2021/01/2021013022230187061.xlsx', '焦炭': 'http://www.dce.com.cn/dalianshangpin/resource/cms/2021/01/2021013022223115141.xlsx', '焦煤': 'http://www.dce.com.cn/dalianshangpin/resource/cms/2021/01/2021013022221421028.xlsx', '铁矿石': 'http://www.dce.com.cn/dalianshangpin/resource/cms/2021/01/2021013022215227661.xlsx', '乙二醇': 'http://www.dce.com.cn/dalianshangpin/resource/cms/2021/01/2021013022205350779.xlsx', '苯乙烯': 'http://www.dce.com.cn/dalianshangpin/resource/cms/2021/01/2021013022203790813.xlsx', '液化石油气': 'http://www.dce.com.cn/dalianshangpin/resource/cms/2021/01/2021013022202095737.xlsx', '豆粕期权': 'http://www.dce.com.cn/dalianshangpin/resource/cms/2021/01/2021013021343598603.xlsx', '玉米期权': 'http://www.dce.com.cn/dalianshangpin/resource/cms/2021/01/2021013021340884530.xlsx', '铁矿石期权': 'http://www.dce.com.cn/dalianshangpin/resource/cms/2021/01/2021013021313595298.xlsx', '液化石油气期权': 'http://www.dce.com.cn/dalianshangpin/resource/cms/2021/01/2021013021315683739.xlsx', '聚丙烯期权': 'http://www.dce.com.cn/dalianshangpin/resource/cms/2021/01/2021013021311097486.xlsx', '聚氯乙烯期权': 'http://www.dce.com.cn/dalianshangpin/resource/cms/2021/01/2021013021305074133.xlsx', '线型低密度聚乙烯期权': 'http://www.dce.com.cn/dalianshangpin/resource/cms/2021/01/2021013021301657579.xlsx'}, 2019: {'铁矿石期权': 'http://www.dce.com.cn/dalianshangpin/resource/cms/2020/03/2020030415313970748.xlsx', '玉米期权': 'http://www.dce.com.cn/dalianshangpin/resource/cms/2020/03/2020030415311320527.xlsx', '豆粕期权': 'http://www.dce.com.cn/dalianshangpin/resource/cms/2020/03/2020030415305437730.xlsx', '苯乙烯': 'http://www.dce.com.cn/dalianshangpin/resource/cms/2020/03/2020030415301775856.xlsx', '乙二醇': 'http://www.dce.com.cn/dalianshangpin/resource/cms/2020/03/2020030415295890859.xlsx', '铁矿石': 'http://www.dce.com.cn/dalianshangpin/resource/cms/2020/03/2020030415294181033.xlsx', '焦煤': 'http://www.dce.com.cn/dalianshangpin/resource/cms/2020/03/2020030415291887285.xlsx', '焦炭': 'http://www.dce.com.cn/dalianshangpin/resource/cms/2020/03/2020030415285941846.xlsx', '聚丙烯': 'http://www.dce.com.cn/dalianshangpin/resource/cms/2020/03/2020030415282681081.xlsx', '聚氯乙烯': 'http://www.dce.com.cn/dalianshangpin/resource/cms/2020/03/2020030415275871266.xlsx', '聚乙烯': 'http://www.dce.com.cn/dalianshangpin/resource/cms/2020/03/2020030415272788537.xlsx', '粳米': 'http://www.dce.com.cn/dalianshangpin/resource/cms/2020/03/2020030415262149049.xlsx', '鸡蛋': 'http://www.dce.com.cn/dalianshangpin/resource/cms/2020/03/2020030415255843776.xlsx', '胶合板': 'http://www.dce.com.cn/dalianshangpin/resource/cms/2020/03/2020030415251943821.xlsx', '纤维板': 'http://www.dce.com.cn/dalianshangpin/resource/cms/2020/03/2020030415245211544.xlsx', '棕榈油': 'http://www.dce.com.cn/dalianshangpin/resource/cms/2020/03/2020030415242835829.xlsx', '豆油': 'http://www.dce.com.cn/dalianshangpin/resource/cms/2020/03/2020030415240310680.xlsx', '豆粕': 'http://www.dce.com.cn/dalianshangpin/resource/cms/2020/03/2020030415233887199.xlsx', '豆二': 'http://www.dce.com.cn/dalianshangpin/resource/cms/2020/03/2020030415221765732.xlsx', '豆一': 'http://www.dce.com.cn/dalianshangpin/resource/cms/2020/03/2020030415214926535.xlsx', '玉米淀粉': 'http://www.dce.com.cn/dalianshangpin/resource/cms/2020/03/2020030415211863019.xlsx', '玉米': 'http://www.dce.com.cn/dalianshangpin/resource/cms/2020/03/2020030415204421551.xlsx'}, 2018: {'玉米': 'http://www.dce.com.cn/dalianshangpin/resource/cms/2019/01/2019012315465149647.xlsx', '玉米淀粉': 'http://www.dce.com.cn/dalianshangpin/resource/cms/2019/01/2019012315472636617.xlsx', '豆一': 'http://www.dce.com.cn/dalianshangpin/resource/cms/2019/01/2019012315491595717.xlsx', '豆二': 'http://www.dce.com.cn/dalianshangpin/resource/cms/2019/01/2019012315494384352.xlsx', '豆粕': 'http://www.dce.com.cn/dalianshangpin/resource/cms/2019/01/2019012315503149436.xlsx', '豆油': 'http://www.dce.com.cn/dalianshangpin/resource/cms/2019/01/2019012315510143573.xlsx', '棕榈油': 'http://www.dce.com.cn/dalianshangpin/resource/cms/2019/01/2019012315512984994.xlsx', '纤维板': 'http://www.dce.com.cn/dalianshangpin/resource/cms/2019/01/2019012315521325884.xlsx', '胶合板': 'http://www.dce.com.cn/dalianshangpin/resource/cms/2019/01/2019012315524222344.xlsx', '鸡蛋': 'http://www.dce.com.cn/dalianshangpin/resource/cms/2019/01/2019012315531120895.xlsx', '聚乙烯': 'http://www.dce.com.cn/dalianshangpin/resource/cms/2019/01/2019012315533698043.xlsx', '聚氯乙烯': 'http://www.dce.com.cn/dalianshangpin/resource/cms/2019/01/2019012315540434464.xlsx', '聚丙烯': 'http://www.dce.com.cn/dalianshangpin/resource/cms/2019/01/2019012315542858952.xlsx', '焦炭': 'http://www.dce.com.cn/dalianshangpin/resource/cms/2019/01/2019012315545146176.xlsx', '焦煤': 'http://www.dce.com.cn/dalianshangpin/resource/cms/2019/01/2019012315551924286.xlsx', '铁矿石': 'http://www.dce.com.cn/dalianshangpin/resource/cms/2019/01/2019012315554441476.xlsx', '乙二醇': 'http://www.dce.com.cn/dalianshangpin/resource/cms/2019/01/2019012315561575616.xlsx', '豆粕期权': 'http://www.dce.com.cn/dalianshangpin/resource/cms/2019/01/2019012314555751099.xls'}, 2017: {'玉米': 'http://www.dce.com.cn/dalianshangpin/resource/cms/article/6084184/6084269/2018011113545470783.zip', '玉米淀粉': 'http://www.dce.com.cn/dalianshangpin/resource/cms/2018/01/2018011113541720772.csv', '豆一': 'http://www.dce.com.cn/dalianshangpin/resource/cms/2018/01/2018011113533776164.csv', '豆二': 'http://www.dce.com.cn/dalianshangpin/resource/cms/2018/01/2018011113530726662.csv', '豆粕': 'http://www.dce.com.cn/dalianshangpin/resource/cms/2018/01/2018011113522038255.csv', '豆油': 'http://www.dce.com.cn/dalianshangpin/resource/cms/2018/01/2018011113514177523.csv', '棕榈油': 'http://www.dce.com.cn/dalianshangpin/resource/cms/2018/01/2018011113510049272.csv', '纤维板': 'http://www.dce.com.cn/dalianshangpin/resource/cms/2018/01/2018011113495123053.csv', '胶合板': 'http://www.dce.com.cn/dalianshangpin/resource/cms/2018/01/2018011113491199156.csv', '鸡蛋': 'http://www.dce.com.cn/dalianshangpin/resource/cms/2018/01/2018011113502120120.csv', '聚乙烯': 'http://www.dce.com.cn/dalianshangpin/resource/cms/2018/01/2018011113483039605.csv', '聚氯乙烯': 'http://www.dce.com.cn/dalianshangpin/resource/cms/2018/01/2018011113473562155.csv', '聚丙烯': 'http://www.dce.com.cn/dalianshangpin/resource/cms/2018/01/2018011113445452877.csv', '焦炭': 'http://www.dce.com.cn/dalianshangpin/resource/cms/2018/01/2018011113435971763.csv', '焦煤': 'http://www.dce.com.cn/dalianshangpin/resource/cms/2018/01/2018011113433613267.csv', '铁矿石': 'http://www.dce.com.cn/dalianshangpin/resource/cms/2018/01/2018011113424399877.csv', '豆粕期权': 'http://www.dce.com.cn/dalianshangpin/resource/cms/2018/02/2018020510281786791.csv'}, 2016: {'玉米': 'http://www.dce.com.cn/dalianshangpin/resource/cms/2017/04/c.zip', '玉米淀粉': 'http://www.dce.com.cn/dalianshangpin/resource/cms/2017/04/cs.zip', '豆一': 'http://www.dce.com.cn/dalianshangpin/resource/cms/2017/04/a.zip', '豆二': 'http://www.dce.com.cn/dalianshangpin/resource/cms/2017/04/b.zip', '豆粕': 'http://www.dce.com.cn/dalianshangpin/resource/cms/2017/04/m.zip', '豆油': 'http://www.dce.com.cn/dalianshangpin/resource/cms/2017/04/y.zip', '棕榈油': 'http://www.dce.com.cn/dalianshangpin/resource/cms/2017/04/p.zip', '纤维板': 'http://www.dce.com.cn/dalianshangpin/resource/cms/2017/04/fb.zip', '胶合板': 'http://www.dce.com.cn/dalianshangpin/resource/cms/2017/04/bb.zip', '鸡蛋': 'http://www.dce.com.cn/dalianshangpin/resource/cms/2017/04/jd.zip', '聚乙烯': 'http://www.dce.com.cn/dalianshangpin/resource/cms/2017/04/l.zip', '聚氯乙烯': 'http://www.dce.com.cn/dalianshangpin/resource/cms/2017/04/v.zip', '聚丙烯': 'http://www.dce.com.cn/dalianshangpin/resource/cms/2017/04/pp.zip', '焦炭': 'http://www.dce.com.cn/dalianshangpin/resource/cms/2017/04/j.zip', '焦煤': 'http://www.dce.com.cn/dalianshangpin/resource/cms/2017/04/jm.zip', '铁矿石': 'http://www.dce.com.cn/dalianshangpin/resource/cms/2017/04/i.zip'}, 2015: {'豆粕': 'http://www.dce.com.cn/dalianshangpin/resource/cms/2016/06/2015m.zip', '铁矿石': 'http://www.dce.com.cn/dalianshangpin/resource/cms/2016/06/2015i.zip', '焦煤': 'http://www.dce.com.cn/dalianshangpin/resource/cms/2016/06/2015jm.zip', '焦炭': 'http://www.dce.com.cn/dalianshangpin/resource/cms/2016/06/2015j.zip', '聚丙烯': 'http://www.dce.com.cn/dalianshangpin/resource/cms/2016/06/2015pp.zip', '聚氯乙烯': 'http://www.dce.com.cn/dalianshangpin/resource/cms/2016/06/2015v.zip', '聚乙烯': 'http://www.dce.com.cn/dalianshangpin/resource/cms/2016/06/2015l.zip', '胶合板': 'http://www.dce.com.cn/dalianshangpin/resource/cms/2016/06/2015bb.zip', '纤维板': 'http://www.dce.com.cn/dalianshangpin/resource/cms/2016/06/2015fb.zip', '鸡蛋': 'http://www.dce.com.cn/dalianshangpin/resource/cms/2016/06/2015jd.zip', '棕榈油': 'http://www.dce.com.cn/dalianshangpin/resource/cms/2016/06/2015p.zip', '豆油': 'http://www.dce.com.cn/dalianshangpin/resource/cms/2016/06/2015y.zip', '豆二': 'http://www.dce.com.cn/dalianshangpin/resource/cms/2016/06/2015b.zip', '豆一': 'http://www.dce.com.cn/dalianshangpin/resource/cms/2016/06/2015a.zip', '玉米淀粉': 'http://www.dce.com.cn/dalianshangpin/resource/cms/2016/06/2015cs.zip', '玉米': 'http://www.dce.com.cn/dalianshangpin/resource/cms/2016/06/2015c.zip'}, 2014: {'玉米': 'http://www.dce.com.cn/dalianshangpin/resource/cms/2016/01/2014c.zip', '玉米淀粉': 'http://www.dce.com.cn/dalianshangpin/resource/cms/2016/01/2014cs.zip', '豆一': 'http://www.dce.com.cn/dalianshangpin/resource/cms/2016/01/2014a.zip', '豆二': 'http://www.dce.com.cn/dalianshangpin/resource/cms/2016/01/2014b.zip', '豆粕': 'http://www.dce.com.cn/dalianshangpin/resource/cms/2017/12/2014m.zip', '豆油': 'http://www.dce.com.cn/dalianshangpin/resource/cms/2016/01/2014y.zip', '棕榈油': 'http://www.dce.com.cn/dalianshangpin/resource/cms/2016/01/2014p.zip', '鸡蛋': 'http://www.dce.com.cn/dalianshangpin/resource/cms/2016/01/2014jd.zip', '纤维板': 'http://www.dce.com.cn/dalianshangpin/resource/cms/2016/01/2014fb.zip', '胶合板': 'http://www.dce.com.cn/dalianshangpin/resource/cms/2016/01/2014bb.zip', '聚乙烯': 'http://www.dce.com.cn/dalianshangpin/resource/cms/2016/01/2014l.zip', '聚氯乙烯': 'http://www.dce.com.cn/dalianshangpin/resource/cms/2016/01/2014v.zip', '聚丙烯': 'http://www.dce.com.cn/dalianshangpin/resource/cms/2016/01/2014pp.zip', '焦炭': 'http://www.dce.com.cn/dalianshangpin/resource/cms/2016/01/2014j.zip', '焦煤': 'http://www.dce.com.cn/dalianshangpin/resource/cms/2016/01/2014jm.zip', '铁矿石': 'http://www.dce.com.cn/dalianshangpin/resource/cms/2016/01/2014i.zip'}, 2013: {'玉米': 'http://www.dce.com.cn/dalianshangpin/resource/cms/2014/11/2013c.zip', '豆一': 'http://www.dce.com.cn/dalianshangpin/resource/cms/2014/11/2013a.zip', '豆二': 'http://www.dce.com.cn/dalianshangpin/resource/cms/2014/11/2013b.zip', '豆粕': 'http://www.dce.com.cn/dalianshangpin/resource/cms/2014/11/2013m.zip', '豆油': 'http://www.dce.com.cn/dalianshangpin/resource/cms/2014/11/2013y.zip', '棕榈油': 'http://www.dce.com.cn/dalianshangpin/resource/cms/2014/11/2013p.zip', '纤维板': 'http://www.dce.com.cn/dalianshangpin/resource/cms/2014/11/2013fb.zip', '胶合板': 'http://www.dce.com.cn/dalianshangpin/resource/cms/2014/11/2013bb.zip', '鸡蛋': 'http://www.dce.com.cn/dalianshangpin/resource/cms/2014/11/2013jd.zip', '聚乙烯': 'http://www.dce.com.cn/dalianshangpin/resource/cms/2017/12/2017120117253822650.zip', '聚氯乙烯': 'http://www.dce.com.cn/dalianshangpin/resource/cms/2017/12/2017120409280461541.zip', '焦炭': 'http://www.dce.com.cn/dalianshangpin/resource/cms/2014/11/2013j.zip', '焦煤': 'http://www.dce.com.cn/dalianshangpin/resource/cms/2014/11/2013jm.zip', '铁矿石': 'http://www.dce.com.cn/dalianshangpin/resource/cms/2014/11/2013i.zip'}, 2012: {'玉米': 'http://www.dce.com.cn/dalianshangpin/resource/cms/2014/11/2012c.zip', '豆一': 'http://www.dce.com.cn/dalianshangpin/resource/cms/2014/11/2012a.zip', '豆二': 'http://www.dce.com.cn/dalianshangpin/resource/cms/2014/11/2012b.zip', '豆粕': 'http://www.dce.com.cn/dalianshangpin/resource/cms/2014/11/2012m.zip', '豆油': 'http://www.dce.com.cn/dalianshangpin/resource/cms/2014/11/2012y.zip', '棕榈油': 'http://www.dce.com.cn/dalianshangpin/resource/cms/2014/11/2012p.zip', '聚乙烯': 'http://www.dce.com.cn/dalianshangpin/resource/cms/2014/11/2012l.zip', '聚氯乙烯': 'http://www.dce.com.cn/dalianshangpin/resource/cms/2014/11/2012v.zip', '焦炭': 'http://www.dce.com.cn/dalianshangpin/resource/cms/2014/11/2012j.zip'}, 2011: {'玉米': 'http://www.dce.com.cn/dalianshangpin/resource/cms/2014/11/2011c.zip', '豆一': 'http://www.dce.com.cn/dalianshangpin/resource/cms/2014/11/2011a.zip', '豆二': 'http://www.dce.com.cn/dalianshangpin/resource/cms/2014/11/2011b.zip', '豆粕': 'http://www.dce.com.cn/dalianshangpin/resource/cms/2014/11/2011m.zip', '豆油': 'http://www.dce.com.cn/dalianshangpin/resource/cms/2014/11/2011y.zip', '棕榈油': 'http://www.dce.com.cn/dalianshangpin/resource/cms/2014/11/2011p.zip', '聚乙烯': 'http://www.dce.com.cn/dalianshangpin/resource/cms/2014/11/2011l.zip', '聚氯乙烯': 'http://www.dce.com.cn/dalianshangpin/resource/cms/2014/11/2011v.zip', '焦炭': 'http://www.dce.com.cn/dalianshangpin/resource/cms/2014/11/2011j.zip'}, 2010: {'玉米': 'http://www.dce.com.cn/dalianshangpin/resource/cms/2014/11/2010c.zip', '豆一': 'http://www.dce.com.cn/dalianshangpin/resource/cms/2014/11/2010a.zip', '豆二': 'http://www.dce.com.cn/dalianshangpin/resource/cms/2014/11/2010b.zip', '豆粕': 'http://www.dce.com.cn/dalianshangpin/resource/cms/2014/11/2010m.zip', '豆油': 'http://www.dce.com.cn/dalianshangpin/resource/cms/2014/11/2010y.zip', '棕榈油': 'http://www.dce.com.cn/dalianshangpin/resource/cms/2014/11/2010p.zip', '聚乙烯': 'http://www.dce.com.cn/dalianshangpin/resource/cms/2014/11/2010l.zip', '聚氯乙烯': 'http://www.dce.com.cn/dalianshangpin/resource/cms/2014/11/2010v.zip'}, 2009: {'玉米': 'http://www.dce.com.cn/dalianshangpin/resource/cms/2014/11/2009c.zip', '豆一': 'http://www.dce.com.cn/dalianshangpin/resource/cms/2014/11/2009a.zip', '豆二': 'http://www.dce.com.cn/dalianshangpin/resource/cms/2014/11/2009b.zip', '豆粕': 'http://www.dce.com.cn/dalianshangpin/resource/cms/2014/11/2009m.zip', '豆油': 'http://www.dce.com.cn/dalianshangpin/resource/cms/2014/11/2009y.zip', '棕榈油': 'http://www.dce.com.cn/dalianshangpin/resource/cms/2014/11/2009p.zip', '聚乙烯': 'http://www.dce.com.cn/dalianshangpin/resource/cms/2014/11/2009l.zip', '聚氯乙烯': 'http://www.dce.com.cn/dalianshangpin/resource/cms/2014/11/2009v.zip'}, 2008: {'玉米': 'http://www.dce.com.cn/dalianshangpin/resource/cms/2014/11/2008c.zip', '豆一': 'http://www.dce.com.cn/dalianshangpin/resource/cms/2014/11/2008a.zip', '豆二': 'http://www.dce.com.cn/dalianshangpin/resource/cms/2014/11/2008b.zip', '豆粕': 'http://www.dce.com.cn/dalianshangpin/resource/cms/2014/11/2008m.zip', '豆油': 'http://www.dce.com.cn/dalianshangpin/resource/cms/2014/11/2008y.zip', '棕榈油': 'http://www.dce.com.cn/dalianshangpin/resource/cms/2014/11/2008p.zip', '聚乙烯': 'http://www.dce.com.cn/dalianshangpin/resource/cms/2014/11/2008l.zip'}, 2007: {'玉米': 'http://www.dce.com.cn/dalianshangpin/resource/cms/2014/11/2007c.zip', '豆一': 'http://www.dce.com.cn/dalianshangpin/resource/cms/2014/11/2007a.zip', '豆二': 'http://www.dce.com.cn/dalianshangpin/resource/cms/2014/11/2007b.zip', '豆粕': 'http://www.dce.com.cn/dalianshangpin/resource/cms/2014/11/2007m.zip', '豆油': 'http://www.dce.com.cn/dalianshangpin/resource/cms/2014/11/2007y.zip', '棕榈油': 'http://www.dce.com.cn/dalianshangpin/resource/cms/2014/11/2007p.zip', '聚乙烯': 'http://www.dce.com.cn/dalianshangpin/resource/cms/2014/11/2007l.zip'}, 2006: {'玉米': 'http://www.dce.com.cn/dalianshangpin/resource/cms/2014/11/2006c.zip', '豆一': 'http://www.dce.com.cn/dalianshangpin/resource/cms/2014/11/2006a.zip', '豆二': 'http://www.dce.com.cn/dalianshangpin/resource/cms/2014/11/2006b.zip', '豆粕': 'http://www.dce.com.cn/dalianshangpin/resource/cms/2014/11/2006m.zip', '豆油': 'http://www.dce.com.cn/dalianshangpin/resource/cms/2014/11/2006y.zip'}}\n"
     ]
    }
   ],
   "source": [
    "from typing import Dict\n",
    "import datetime as dt\n",
    "\n",
    "import requests\n",
    "from lxml import etree\n",
    "\n",
    "\n",
    "def fetch_dce_history_index() -> Dict[int, Dict[str, str]]:\n",
    "    \"\"\"\n",
    "    获取大连商品交易所（大商所，DCE）的历史数据下载链接。\n",
    "    :return: Dict[str, Dict[int, str]]，一个嵌套的字典。\n",
    "             外层字典的 key 是期货（'futures'）或者期权（'option'），\n",
    "             内层字典的 key 是年份，value 是下载地址。\n",
    "    \"\"\"\n",
    "    # 定义返回结果。\n",
    "    result: Dict[int, Dict[str, str]] = {}\n",
    "    \n",
    "    # 定义大商所url。\n",
    "    url_dce: str = 'http://www.dce.com.cn'\n",
    "    url: str = f'{url_dce}/dalianshangpin/xqsj/lssj/index.html'\n",
    "\n",
    "    # 生成年份列表。\n",
    "    year_list: List[int] = [year for year in range(2006, dt.date.today().year)]\n",
    "    year_list.reverse()\n",
    "    for year in year_list:\n",
    "        result[year] = {}\n",
    "\n",
    "    # 下载网页。\n",
    "    response = requests.get(url)\n",
    "    if response.status_code != 200:\n",
    "        raise requests.exceptions.HTTPError(\n",
    "            f'下载 <{url}> 时发生错误。'\n",
    "        )\n",
    "    response.encoding = 'utf-8'\n",
    "\n",
    "    # 解析网页。\n",
    "    html: etree._Element = etree.HTML(response.text)\n",
    "    history_data_list: List[etree._Element] = html.xpath('//ul[@class=\"cate_sel clearfix\"]')\n",
    "\n",
    "    # 填充数据.\n",
    "    for i in range(len(year_list)):\n",
    "        product_list = history_data_list[i].xpath('./li/label/text()')\n",
    "        url_list = history_data_list[i].xpath('./li/label/input/@rel')\n",
    "        assert len(product_list) == len(url_list)\n",
    "        for j in range(len(product_list)):\n",
    "            result[year_list[i]][product_list[j]] = f'{url_dce}{url_list[j]}'\n",
    "\n",
    "    return result\n",
    "\n",
    "# 测试\n",
    "print(fetch_dce_history_index())"
   ]
  },
  {
   "cell_type": "markdown",
   "id": "403745a2-29cd-4c34-803d-ceb6c4116e63",
   "metadata": {},
   "source": [
    "好家伙，盘满钵满的感觉。\n",
    "\n",
    "我们还是按照年份去下载历史数据，而不是按照品种。因为我们最终都是会下载所有的品种的。\n",
    "\n",
    "另外，以往我们面对的都是按照年份组织的数据，显得比较整齐，本地文件名都是 <交易所代码>_<年份>.zip。现在面对大商所这么散碎的链接，而且文件扩展名有 zip，有 csv，还有 xls……我们下载本地后的文件名是一个考验。\n",
    "\n",
    "我们在以往的基础上增加品种字段，组织为：<交易所代码>_<品种>_<年份>.<扩展名>。\n",
    "\n",
    "代码："
   ]
  },
  {
   "cell_type": "code",
   "execution_count": 3,
   "id": "fbcd639b-1a04-46cf-8ab0-0f49ae62f012",
   "metadata": {},
   "outputs": [],
   "source": [
    "def download_dce_history_data(save_path: Path, year: int) -> None:\n",
    "    \"\"\"\n",
    "    下载大连商品交易所（大商所，DCE）的历史数据。\n",
    "    :param save_path: Path，保存的位置。\n",
    "    :param year: int，需要下载数据的年份。\n",
    "    :return: None。\n",
    "    \"\"\"\n",
    "    \n",
    "    # 获取下载链接。\n",
    "    data_index: Dict[int, Dict[str, str]] = fetch_dce_history_index()\n",
    "    \n",
    "    # 声明扩展名的变量类型。\n",
    "    extension_name: str\n",
    "    \n",
    "    # 循环下载。\n",
    "    for product, url in data_index[year].items():\n",
    "        # 从 url 中分离扩展名。\n",
    "        extension_name = url.split('.')[-1]\n",
    "        \n",
    "        # 生成文件名。\n",
    "        download_file = save_path.joinpath(f'DCE_{product}_{year}.{extension_name}')\n",
    "        \n",
    "        # 下载\n",
    "        response = requests.get(url)\n",
    "        \n",
    "        # 如果下载不顺利，引发异常。\n",
    "        if response.status_code != 200:\n",
    "            raise requests.exceptions.HTTPError(\n",
    "                f'下载 <{url}> 时发生错误。'\n",
    "            )\n",
    "        \n",
    "        # 保存文件。\n",
    "        with open(download_file, 'wb') as f:\n",
    "            f.write(response.content)\n",
    "\n",
    "# 测试\n",
    "download_dce_history_data(save_path=PATH_FOR_RESULT, year=2020)"
   ]
  },
  {
   "cell_type": "markdown",
   "id": "b951f0c6-949c-4a36-b899-0acf480a0a01",
   "metadata": {},
   "source": [
    "下载全部历史数据："
   ]
  },
  {
   "cell_type": "code",
   "execution_count": 4,
   "id": "b72704af-2e6a-4a65-a170-76b88786f898",
   "metadata": {},
   "outputs": [],
   "source": [
    "def download_all_dce_history_data(save_path: Path) -> None:\n",
    "    \"\"\"\n",
    "    下载大连商品交易所（大商所，DCE）的全部历史数据。\n",
    "    :param save_path: 保存的位置。\n",
    "    :return: None.\n",
    "    \"\"\"\n",
    "    start_year: int = 2006\n",
    "    this_year: int = dt.date.today().year\n",
    "    for year in range(start_year, this_year):\n",
    "        download_dce_history_data(save_path=save_path, year=year)\n",
    "\n",
    "# 测试\n",
    "download_all_dce_history_data(save_path=PATH_FOR_RESULT)"
   ]
  },
  {
   "cell_type": "markdown",
   "id": "18582912-48eb-4141-b685-1bcddf30d8ab",
   "metadata": {},
   "source": [
    "Done."
   ]
  },
  {
   "cell_type": "code",
   "execution_count": null,
   "id": "3cf32407-0051-46bf-bd7a-aa6b030adc0c",
   "metadata": {},
   "outputs": [],
   "source": []
  }
 ],
 "metadata": {
  "kernelspec": {
   "display_name": "Python 3 (ipykernel)",
   "language": "python",
   "name": "python3"
  },
  "language_info": {
   "codemirror_mode": {
    "name": "ipython",
    "version": 3
   },
   "file_extension": ".py",
   "mimetype": "text/x-python",
   "name": "python",
   "nbconvert_exporter": "python",
   "pygments_lexer": "ipython3",
   "version": "3.8.9"
  }
 },
 "nbformat": 4,
 "nbformat_minor": 5
}

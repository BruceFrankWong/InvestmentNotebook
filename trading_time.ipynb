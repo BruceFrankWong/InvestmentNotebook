{
 "cells": [
  {
   "cell_type": "markdown",
   "id": "ff8075cb-1b0e-4a22-be0d-fdff7a36703f",
   "metadata": {},
   "source": [
    "# 交易时间\n",
    "\n",
    "各品种交易时间由查询交易所网站公告信息获得。\n",
    "\n",
    "目前，各市场各品种都采用“交易节”的形式。比如：\n",
    "\n",
    "- 股票，2个交易节，<09:30 ~ 11:30, 13:00 ~ 15:00>\n",
    "- 金融期货，2个交易节\n",
    "    - 股指期货，<09:30 ~ 11:30, 13:00 ~ 15:00>\n",
    "    - 国债期货，<09:30 ~ 11:30, 13:00 ~ 15:15>\n",
    "- 商品期货\n",
    "    - 无夜盘，3个交易节，<09:00 ~ 10:15, 10:30 ~ 11:30, 13:30 ~ 15:00>\n",
    "    - 有夜盘，4个交易节：\n",
    "        - 贵金属、原油：<21:00 ~ 02:30, 09:00 ~ 10:15, 10:30 ~ 11:30, 13:30 ~ 15:00>\n",
    "        - 有色：<21:00 ~ 01:00, 09:00 ~ 10:15, 10:30 ~ 11:30, 13:30 ~ 15:00>\n",
    "        - 其它：<21:00 ~ 23:00, 09:00 ~ 10:15, 10:30 ~ 11:30, 13:30 ~ 15:00>\n",
    "        \n",
    "以 SHFE.al 为例，整合为一个数据结构："
   ]
  },
  {
   "cell_type": "code",
   "execution_count": 1,
   "id": "c9422d92-41cd-4018-b73c-f58934c1f99c",
   "metadata": {},
   "outputs": [
    {
     "name": "stdout",
     "output_type": "stream",
     "text": [
      "{'SHFE.al': {'count': 4, 'optional': 1, 'sections': [datetime.time(21, 0), datetime.time(1, 0), datetime.time(9, 0), datetime.time(10, 15), datetime.time(10, 30), datetime.time(11, 30), datetime.time(13, 30), datetime.time(15, 0)]}}\n"
     ]
    }
   ],
   "source": [
    "import datetime as dt\n",
    "\n",
    "product_trading_time = {\n",
    "    'SHFE.al': {\n",
    "        'count': 4,\n",
    "        'optional': 1,\n",
    "        'sections': [\n",
    "            dt.time(hour=21, minute=0),\n",
    "            dt.time(hour=1, minute=0),\n",
    "            dt.time(hour=9, minute=0),\n",
    "            dt.time(hour=10, minute=15),\n",
    "            dt.time(hour=10, minute=30),\n",
    "            dt.time(hour=11, minute=30),\n",
    "            dt.time(hour=13, minute=30),\n",
    "            dt.time(hour=15, minute=0),\n",
    "        ],\n",
    "    },\n",
    "}\n",
    "\n",
    "print(product_trading_time)"
   ]
  },
  {
   "cell_type": "markdown",
   "id": "7256a9f9-cb90-486f-ade2-a5a625d4e13f",
   "metadata": {},
   "source": [
    "沪铝的第3交易节的开盘收盘时间："
   ]
  },
  {
   "cell_type": "code",
   "execution_count": 2,
   "id": "2f73b79f-8677-4399-9e15-409f9effe264",
   "metadata": {},
   "outputs": [
    {
     "name": "stdout",
     "output_type": "stream",
     "text": [
      "10:30:00\n",
      "11:30:00\n"
     ]
    }
   ],
   "source": [
    "print(product_trading_time['SHFE.al']['sections'][(3-1)*2])\n",
    "print(product_trading_time['SHFE.al']['sections'][(3-1)*2+1])"
   ]
  },
  {
   "cell_type": "markdown",
   "id": "09a3f086-4de8-432d-98f9-2f81d5b6e211",
   "metadata": {},
   "source": [
    "整合为一个 Python 类："
   ]
  },
  {
   "cell_type": "code",
   "execution_count": 3,
   "id": "963573e6-ece6-40b5-81a8-b4a32994afde",
   "metadata": {},
   "outputs": [],
   "source": [
    "from typing import List\n",
    "\n",
    "class ProductTradingTime:\n",
    "    \"\"\"\n",
    "    品种交易时间。\n",
    "    \"\"\"\n",
    "\n",
    "    def __init__(self,\n",
    "                 exchange: str,\n",
    "                 product: str,\n",
    "                 count: int,\n",
    "                 optional: int,\n",
    "                 sections: List[dt.time]\n",
    "                 ) -> None:\n",
    "\n",
    "        # 交易所\n",
    "        self.exchange: str = exchange.upper()\n",
    "\n",
    "        # 品种\n",
    "        self.product: str = product\n",
    "\n",
    "        # 交易节的数量\n",
    "        if count <= 0:\n",
    "            raise ValueError(f'Parameter <count> should be positive integer. Got {count} instead.')\n",
    "        else:\n",
    "            self.count: int = count\n",
    "\n",
    "        # 可选的交易节序号（有夜盘为1，无夜盘为0——不可选）。\n",
    "        if optional < 0 or optional > 1:\n",
    "            raise ValueError(f'Parameter <optional> should be 0 or 1. Got {optional} instead.')\n",
    "        else:\n",
    "            self.optional: int = optional\n",
    "\n",
    "        # 交易节时间\n",
    "        if len(sections) / count != 2:\n",
    "            raise ValueError(f'Parameter <trading_section> should has twice number items of <count>. {product}')\n",
    "        else:\n",
    "            self.sections: List[dt.time] = sections"
   ]
  },
  {
   "cell_type": "markdown",
   "id": "5d7f6af4-05e2-4719-94a4-345ae39513d8",
   "metadata": {},
   "source": [
    "简单测试一下，还是用 SHFE.al 做例子："
   ]
  },
  {
   "cell_type": "code",
   "execution_count": 4,
   "id": "eb0ffbc5-bc29-4f97-8261-c479b54be4dd",
   "metadata": {},
   "outputs": [
    {
     "name": "stdout",
     "output_type": "stream",
     "text": [
      "test.exchange: SHFE\n",
      "test.product: al\n",
      "test.count: 4\n",
      "test.optional: 1\n",
      "test.sections: [datetime.time(21, 0), datetime.time(1, 0), datetime.time(9, 0), datetime.time(10, 15), datetime.time(10, 30), datetime.time(11, 30), datetime.time(13, 30), datetime.time(15, 0)]\n"
     ]
    }
   ],
   "source": [
    "test: ProductTradingTime = ProductTradingTime(\n",
    "    exchange='SHFE',\n",
    "    product='al',\n",
    "    count=4,\n",
    "    optional=1,\n",
    "    sections=[\n",
    "        dt.time(hour=21, minute=0),\n",
    "        dt.time(hour=1, minute=0),\n",
    "        dt.time(hour=9, minute=0),\n",
    "        dt.time(hour=10, minute=15),\n",
    "        dt.time(hour=10, minute=30),\n",
    "        dt.time(hour=11, minute=30),\n",
    "        dt.time(hour=13, minute=30),\n",
    "        dt.time(hour=15, minute=0),\n",
    "    ]\n",
    ")\n",
    "\n",
    "print(f'test.exchange: {test.exchange}')\n",
    "print(f'test.product: {test.product}')\n",
    "print(f'test.count: {test.count}')\n",
    "print(f'test.optional: {test.optional}')\n",
    "print(f'test.sections: {test.sections}')"
   ]
  },
  {
   "cell_type": "markdown",
   "id": "17e5b609-e2c7-4ab0-86f1-b0cc85780ea5",
   "metadata": {},
   "source": [
    "改进一下：\n",
    "\n",
    "1. 用 property 改写为只读属性；\n",
    "2. 时区转换；\n",
    "3. 对于无时区的时间，认定为 UTC+8 时区。"
   ]
  },
  {
   "cell_type": "code",
   "execution_count": 5,
   "id": "59a3db59-6913-42d8-b755-1cc63c8a4380",
   "metadata": {},
   "outputs": [
    {
     "name": "stdout",
     "output_type": "stream",
     "text": [
      "test.exchange: SHFE\n",
      "test.product: al\n",
      "test.count: 4\n",
      "test.optional: 1\n",
      "test.sections: [datetime.time(21, 0), datetime.time(1, 0), datetime.time(9, 0), datetime.time(10, 15), datetime.time(10, 30), datetime.time(11, 30), datetime.time(13, 30), datetime.time(15, 0)]\n",
      "test.section[2]: (datetime.time(9, 0), datetime.time(10, 15))\n"
     ]
    }
   ],
   "source": [
    "class ProductTradingTime:\n",
    "    \"\"\"\n",
    "    品种交易时间。\n",
    "    \"\"\"\n",
    "    _exchange: str  # 交易所\n",
    "    _product: str   # 品种\n",
    "    _count: int     # 交易节的数量\n",
    "    _optional: int  # 可选的交易节序号（有夜盘为1，无夜盘为0——不可选）。\n",
    "    _sections: List[dt.time]    # 交易节时间\n",
    "\n",
    "    def __init__(self,\n",
    "                 exchange: str,\n",
    "                 product: str,\n",
    "                 count: int,\n",
    "                 optional: int,\n",
    "                 sections: List[dt.time]\n",
    "                 ) -> None:\n",
    "\n",
    "        self._exchange = exchange.upper()\n",
    "\n",
    "        self._product = product\n",
    "\n",
    "        if count <= 0:\n",
    "            raise ValueError(f'Parameter <count> should be positive integer. Got {count} instead.')\n",
    "        else:\n",
    "            self._count = count\n",
    "\n",
    "        if optional < 0 or optional > 1:\n",
    "            raise ValueError(f'Parameter <optional> should be 0 or 1. Got {optional} instead.')\n",
    "        else:\n",
    "            self._optional = optional\n",
    "\n",
    "        if len(sections) / count != 2:\n",
    "            raise ValueError(f'Parameter <trading_section> should has twice number items of <count>. {product}')\n",
    "        else:\n",
    "            self._sections = []\n",
    "            for item in sections:\n",
    "                if item.tzinfo is None:\n",
    "                    self._sections.append(\n",
    "                        item.replace(tzinfo=tz_beijing)\n",
    "                    )\n",
    "                else:\n",
    "                    self._sections.append(\n",
    "                        item.as\n",
    "    \n",
    "    @property\n",
    "    def exchange(self) -> str:\n",
    "        return self._exchange\n",
    "    \n",
    "    @property\n",
    "    def product(self) -> str:\n",
    "        return self._product\n",
    "    \n",
    "    @property\n",
    "    def symbol(self) -> str:\n",
    "        return f'{self._exchange}.{self._product}'\n",
    "    \n",
    "    @property\n",
    "    def count(self) -> int:\n",
    "        return self._count\n",
    "    \n",
    "    @property\n",
    "    def optional(self) -> int:\n",
    "        return self._optional\n",
    "    \n",
    "    @property\n",
    "    def sections(self) -> int:\n",
    "        return self._sections\n",
    "    \n",
    "    def section_at(self, n: int) -> tuple:\n",
    "        if n < 1 or n > self._count:\n",
    "            raise ValueError('<n> should in range [1, count], got {n} instead.')\n",
    "        return self._sections[(n-1)*2], self._sections[(n-1)*2+1]\n",
    "    \n",
    "    def __str__(self) -> str:\n",
    "        return f'<ProductTradingTime(' \\\n",
    "               f'Symbol={self.symbol}, ' \\\n",
    "               f'Count={self.count}, ' \\\n",
    "               f'Optional={self.optional}, ' \\\n",
    "               f'Sections={self.sections}, ' \\\n",
    "               f')>'\n",
    "\n",
    "\n",
    "test: ProductTradingTime = ProductTradingTime(\n",
    "    exchange='SHFE',\n",
    "    product='al',\n",
    "    count=4,\n",
    "    optional=1,\n",
    "    sections=[\n",
    "        dt.time(hour=21, minute=0),\n",
    "        dt.time(hour=1, minute=0),\n",
    "        dt.time(hour=9, minute=0),\n",
    "        dt.time(hour=10, minute=15),\n",
    "        dt.time(hour=10, minute=30),\n",
    "        dt.time(hour=11, minute=30),\n",
    "        dt.time(hour=13, minute=30),\n",
    "        dt.time(hour=15, minute=0),\n",
    "    ]\n",
    ")\n",
    "\n",
    "print(f'test.exchange: {test.exchange}')\n",
    "print(f'test.product: {test.product}')\n",
    "print(f'test.count: {test.count}')\n",
    "print(f'test.optional: {test.optional}')\n",
    "print(f'test.sections: {test.sections}')\n",
    "print(f'test.section[2]: {test.section_at(2)}')"
   ]
  },
  {
   "cell_type": "markdown",
   "id": "33b33f0d-c6d4-4b09-8014-d64896642ff4",
   "metadata": {},
   "source": [
    "加载所有品种的交易时间："
   ]
  },
  {
   "cell_type": "code",
   "execution_count": 6,
   "id": "0de8dbd6-c8e0-4ef1-863b-241169e59b9b",
   "metadata": {},
   "outputs": [
    {
     "name": "stdout",
     "output_type": "stream",
     "text": [
      "<ProductTradingTime(Symbol=SHFE.rb, Count=4, Optional=1, Sections=[datetime.time(21, 0), datetime.time(23, 0), datetime.time(9, 0), datetime.time(10, 15), datetime.time(10, 30), datetime.time(11, 30), datetime.time(13, 30), datetime.time(15, 0)], )>\n"
     ]
    }
   ],
   "source": [
    "from typing import Dict\n",
    "from pathlib import Path\n",
    "import csv\n",
    "\n",
    "def read_product_trading_time(csv_path: Path) -> Dict[str, ProductTradingTime]:\n",
    "    if not csv_path.exists():\n",
    "        raise\n",
    "    result: TradingTime = {}\n",
    "    with open(csv_path, mode='r', newline='', encoding='utf-8') as csv_file:\n",
    "        reader = csv.DictReader(csv_file)\n",
    "        for row in reader:\n",
    "            exchange = row['exchange'].upper()\n",
    "            product = row['product']\n",
    "            symbol = f'{exchange}.{product}'\n",
    "            result[symbol] = ProductTradingTime(\n",
    "                exchange=exchange,\n",
    "                product=product,\n",
    "                count=int(row['count']),\n",
    "                optional=int(row['optional']),\n",
    "                sections=[dt.time.fromisoformat(item) for item in row['section'].split(';')]\n",
    "            )\n",
    "    return result\n",
    "\n",
    "from src.utility import PACKAGE_PATH\n",
    "\n",
    "product_trading_time: Dict[str, ProductTradingTime] = read_product_trading_time(PACKAGE_PATH.joinpath('data', 'trading_time.csv'))\n",
    "\n",
    "print(product_trading_time['SHFE.rb'])"
   ]
  },
  {
   "cell_type": "code",
   "execution_count": null,
   "id": "36bd8f88-fc40-41d1-b83e-3f3b689d7d8e",
   "metadata": {},
   "outputs": [],
   "source": []
  }
 ],
 "metadata": {
  "kernelspec": {
   "display_name": "Python 3 (ipykernel)",
   "language": "python",
   "name": "python3"
  },
  "language_info": {
   "codemirror_mode": {
    "name": "ipython",
    "version": 3
   },
   "file_extension": ".py",
   "mimetype": "text/x-python",
   "name": "python",
   "nbconvert_exporter": "python",
   "pygments_lexer": "ipython3",
   "version": "3.8.6"
  }
 },
 "nbformat": 4,
 "nbformat_minor": 5
}

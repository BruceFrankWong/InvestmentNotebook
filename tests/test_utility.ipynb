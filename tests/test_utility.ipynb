{
 "cells": [
  {
   "cell_type": "code",
   "execution_count": 1,
   "id": "f34e6989-ca58-45b0-b980-a226524626d4",
   "metadata": {},
   "outputs": [],
   "source": [
    "# 导入测试模块\n",
    "import ipytest\n",
    "ipytest.autoconfig()"
   ]
  },
  {
   "cell_type": "markdown",
   "id": "f25b2c0a-bc9e-4ec7-9ec8-ca7a1e45541f",
   "metadata": {},
   "source": [
    "# 测试 utility 模块\n",
    "\n",
    "**utility** 作为项目的工具模块，提供全项目使用的功能，比如加载配置文件等等。"
   ]
  },
  {
   "cell_type": "markdown",
   "id": "fb1e20f5-3b17-488c-bcbb-eb9c7e0eac02",
   "metadata": {},
   "source": [
    "## 测试 PACKAGE_PATH\n",
    "\n",
    "PACKAGE_PATH 是一个 Path 对象，用于在本地文件系统（也就是硬盘上）获取整个项目（src/ 文件夹）的路径。其他所有文件操作的路径都基于 PACKAGE_PATH。"
   ]
  },
  {
   "cell_type": "code",
   "execution_count": 2,
   "id": "f2822052-c677-4890-9972-5b0c463996d5",
   "metadata": {},
   "outputs": [
    {
     "name": "stdout",
     "output_type": "stream",
     "text": [
      "\u001b[32m.\u001b[0m\u001b[32m                                                                                            [100%]\u001b[0m\n",
      "\u001b[32m\u001b[32m\u001b[1m1 passed\u001b[0m\u001b[32m in 0.01s\u001b[0m\u001b[0m\n"
     ]
    }
   ],
   "source": [
    "%%ipytest\n",
    "\n",
    "\n",
    "from pathlib import Path\n",
    "\n",
    "from src.utility import PACKAGE_PATH\n",
    "\n",
    "\n",
    "def test_package_path():\n",
    "    \"\"\"\n",
    "    测试 PACKAGE_PATH。\n",
    "    1. PACKAGE_PATH 是 Path 对象。\n",
    "    2. PACKAGE_PATH 的值与 src.utility 模块的 __file__ 相等。\n",
    "    \"\"\"\n",
    "    assert isinstance(PACKAGE_PATH, Path)\n",
    "    \n",
    "    from src import utility\n",
    "    assert PACKAGE_PATH == Path(utility.__file__).parent"
   ]
  },
  {
   "cell_type": "markdown",
   "id": "f787fdf9-9e9d-4b6b-bdb5-5dacb8a00d36",
   "metadata": {},
   "source": [
    "## 测试 CONFIG_PATH\n",
    "\n",
    "CONFIG_PATH 是一个 Path 对象，用于保存项目配置文件的路径。"
   ]
  },
  {
   "cell_type": "code",
   "execution_count": 3,
   "id": "19366c1a-7137-4adb-a9ca-5671b6d6feef",
   "metadata": {},
   "outputs": [
    {
     "name": "stdout",
     "output_type": "stream",
     "text": [
      "\u001b[32m.\u001b[0m\u001b[32m                                                                                            [100%]\u001b[0m\n",
      "\u001b[32m\u001b[32m\u001b[1m1 passed\u001b[0m\u001b[32m in 0.01s\u001b[0m\u001b[0m\n"
     ]
    }
   ],
   "source": [
    "%%ipytest\n",
    "\n",
    "\n",
    "from pathlib import Path\n",
    "\n",
    "from src.utility import CONFIG_PATH\n",
    "\n",
    "\n",
    "def test_config_path():\n",
    "    \"\"\"\n",
    "    测试 CONFIG_PATH。\n",
    "    1. CONFIG_PATH 是 Path 对象。\n",
    "    2. CONFIG_PATH 的值应为 Home（Windows 系统下即 C:\\\\Users\\\\<用户名>）文件夹下的 .investment。\n",
    "    3. CONFIG_PATH 应该在调用后就存在。\n",
    "    \"\"\"\n",
    "    assert isinstance(CONFIG_PATH, Path)\n",
    "    assert CONFIG_PATH == Path.home().joinpath('.investment')\n",
    "    assert CONFIG_PATH.exists() is True"
   ]
  },
  {
   "cell_type": "code",
   "execution_count": null,
   "id": "04c4d94a-8261-4221-aac1-d558f51d5658",
   "metadata": {},
   "outputs": [],
   "source": []
  }
 ],
 "metadata": {
  "kernelspec": {
   "display_name": "Python 3 (ipykernel)",
   "language": "python",
   "name": "python3"
  },
  "language_info": {
   "codemirror_mode": {
    "name": "ipython",
    "version": 3
   },
   "file_extension": ".py",
   "mimetype": "text/x-python",
   "name": "python",
   "nbconvert_exporter": "python",
   "pygments_lexer": "ipython3",
   "version": "3.8.9"
  }
 },
 "nbformat": 4,
 "nbformat_minor": 5
}

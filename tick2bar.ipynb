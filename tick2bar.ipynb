{
 "cells": [
  {
   "cell_type": "code",
   "execution_count": 1,
   "id": "aa446fda-e4ec-42d6-97e9-959d5350d7f9",
   "metadata": {},
   "outputs": [],
   "source": [
    "from typing import List, Dict\n",
    "import os\n",
    "from pathlib import Path\n",
    "import datetime as dt\n",
    "\n",
    "import matplotlib.pyplot as plt\n",
    "import mplfinance as mpf\n",
    "import pandas as pd\n",
    "import numpy as np\n",
    "import math\n",
    "\n",
    "\n",
    "# Definations.\n",
    "\n",
    "# Package path.\n",
    "PACKAGE_PATH: Path = Path(os.path.abspath(''))\n",
    "\n",
    "# Timezone.\n",
    "tz_beijing: dt.timezone = dt.timezone(dt.timedelta(hours=8))\n",
    "tz_trading: dt.timezone = dt.timezone(dt.timedelta(hours=12))\n",
    "\n",
    "tz_delta: dt.timedelta = dt.timedelta(hours=4)\n",
    "\n",
    "\n",
    "def filter_non_trading_data(df: pd.DataFrame) -> pd.DataFrame:\n",
    "    \"\"\"\n",
    "    Drop data in non-trading time.\n",
    "    \"\"\"\n",
    "    if df.index.inferred_type == 'datetime64':\n",
    "        return df[\n",
    "            (\n",
    "                ((df.index.time >= dt.datetime.strptime('00:59', '%H:%M').time()) & (df.index.time <= dt.datetime.strptime('05:00', '%H:%M').time())) |\n",
    "                ((df.index.time >= dt.datetime.strptime('12:59', '%H:%M').time()) & (df.index.time <= dt.datetime.strptime('14:15', '%H:%M').time())) |\n",
    "                ((df.index.time >= dt.datetime.strptime('14:30', '%H:%M').time()) & (df.index.time <= dt.datetime.strptime('15:30', '%H:%M').time())) |\n",
    "                ((df.index.time >= dt.datetime.strptime('17:30', '%H:%M').time()) & (df.index.time <= dt.datetime.strptime('19:00', '%H:%M').time()))\n",
    "            )\n",
    "        ]\n",
    "    else:\n",
    "        return df[\n",
    "            (\n",
    "                ((df.datetime.dt.time >= dt.datetime.strptime('00:59', '%H:%M').time()) & (df.datetime.dt.time <= dt.datetime.strptime('05:00', '%H:%M').time())) |\n",
    "                ((df.datetime.dt.time >= dt.datetime.strptime('12:59', '%H:%M').time()) & (df.datetime.dt.time <= dt.datetime.strptime('14:15', '%H:%M').time())) |\n",
    "                ((df.datetime.dt.time >= dt.datetime.strptime('14:30', '%H:%M').time()) & (df.datetime.dt.time <= dt.datetime.strptime('15:30', '%H:%M').time())) |\n",
    "                ((df.datetime.dt.time >= dt.datetime.strptime('17:30', '%H:%M').time()) & (df.datetime.dt.time <= dt.datetime.strptime('19:00', '%H:%M').time()))\n",
    "            )\n",
    "        ]\n",
    "\n",
    "def pbx(df: pd.DataFrame) -> pd.DataFrame:\n",
    "    \"\"\"\n",
    "    Add PBX indicator.\n",
    "    \"\"\"\n",
    "    df['PBX4'] = (df['close'].ewm(span=4, adjust=False).mean()+df['close'].rolling(4*2).mean()+df['close'].rolling(4*4).mean())/3\n",
    "    df['PBX6'] = (df['close'].ewm(span=6, adjust=False).mean()+df['close'].rolling(6*2).mean()+df['close'].rolling(6*4).mean())/3\n",
    "    df['PBX24'] = (df['close'].ewm(span=24, adjust=False).mean()+df['close'].rolling(24*2).mean()+df['close'].rolling(24*4).mean())/3\n",
    "    return df"
   ]
  },
  {
   "cell_type": "code",
   "execution_count": 2,
   "id": "ec9865fa-d58f-467a-b737-93785274dcea",
   "metadata": {},
   "outputs": [],
   "source": [
    "# data file.\n",
    "tick_path: Path = PACKAGE_PATH.joinpath('SHFE.al2111_Tick.csv')"
   ]
  },
  {
   "cell_type": "code",
   "execution_count": 3,
   "id": "9b29e21f-76c8-49d8-bf1a-73e2756d4d45",
   "metadata": {},
   "outputs": [],
   "source": [
    "# Load csv to DataFrame.\n",
    "df_origin: pd.DataFrame = pd.read_csv(tick_path, parse_dates=['datetime'], index_col=['datetime'])\n",
    "\n",
    "# Change timezone.\n",
    "df_trading = df_origin\n",
    "df_trading.index = df_origin.index + dt.timedelta(hours=4)\n",
    "\n",
    "# Drop non-trading time data.\n",
    "df_trading = filter_non_trading_data(df_trading)"
   ]
  },
  {
   "cell_type": "code",
   "execution_count": 4,
   "id": "2f43ad37-d8f7-4ec1-8ad8-7d0778c3f2cf",
   "metadata": {},
   "outputs": [],
   "source": [
    "df_1min = df_trading['last_price'].resample('1MIN').ohlc()\n",
    "df_1min = pbx(df_1min)"
   ]
  },
  {
   "cell_type": "code",
   "execution_count": null,
   "id": "0f67d6ea-b8c1-41bf-88e9-0a02a58fda3b",
   "metadata": {},
   "outputs": [],
   "source": []
  }
 ],
 "metadata": {
  "kernelspec": {
   "display_name": "Python 3 (ipykernel)",
   "language": "python",
   "name": "python3"
  },
  "language_info": {
   "codemirror_mode": {
    "name": "ipython",
    "version": 3
   },
   "file_extension": ".py",
   "mimetype": "text/x-python",
   "name": "python",
   "nbconvert_exporter": "python",
   "pygments_lexer": "ipython3",
   "version": "3.8.6"
  }
 },
 "nbformat": 4,
 "nbformat_minor": 5
}

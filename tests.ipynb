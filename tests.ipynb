{
 "cells": [
  {
   "cell_type": "markdown",
   "id": "c554336a-ef74-4129-991b-89062662b1a5",
   "metadata": {},
   "source": [
    "# 测试模块"
   ]
  },
  {
   "cell_type": "code",
   "execution_count": 1,
   "id": "86650be4-3079-4485-881b-fc4b09f62be5",
   "metadata": {},
   "outputs": [],
   "source": [
    "import ipytest\n",
    "ipytest.autoconfig()"
   ]
  },
  {
   "cell_type": "code",
   "execution_count": 2,
   "id": "1d41596d-8424-45bb-af96-088bfc68d9b2",
   "metadata": {},
   "outputs": [],
   "source": [
    "# 引入上一级目录\n",
    "# import sys\n",
    "# sys.path.insert(0, '..')"
   ]
  },
  {
   "cell_type": "markdown",
   "id": "f349d25e-a720-4eaa-9a82-2b87609fd2ab",
   "metadata": {
    "tags": []
   },
   "source": [
    "## Test for timezone"
   ]
  },
  {
   "cell_type": "code",
   "execution_count": 3,
   "id": "185c391d-2f2c-4aa1-b1f1-dacc5540efe6",
   "metadata": {},
   "outputs": [
    {
     "name": "stdout",
     "output_type": "stream",
     "text": [
      "\u001b[32m.\u001b[0m\u001b[32m.\u001b[0m\u001b[32m.\u001b[0m\u001b[32m.\u001b[0m\u001b[32m.\u001b[0m\u001b[32m                                                                                        [100%]\u001b[0m\n",
      "\u001b[32m\u001b[32m\u001b[1m5 passed\u001b[0m\u001b[32m in 0.02s\u001b[0m\u001b[0m\n"
     ]
    }
   ],
   "source": [
    "%%ipytest\n",
    "\n",
    "\n",
    "import datetime as dt\n",
    "\n",
    "from src.timezone import (\n",
    "    tz_beijing,\n",
    "    tz_trading,\n",
    "    tz_delta,\n",
    "    to_tz_beijing,\n",
    "    to_tz_trading,\n",
    ")\n",
    "\n",
    "\n",
    "def test_tz_beijing():\n",
    "    assert isinstance(tz_beijing, dt.timezone)\n",
    "\n",
    "def test_tz_trading():\n",
    "    assert isinstance(tz_trading, dt.timezone)\n",
    "\n",
    "def test_naive_time_to_tz_beijing():\n",
    "    t: dt.time = dt.time(hour=21, minute=0)\n",
    "    result = to_tz_beijing(t)\n",
    "    assert isinstance(result, dt.time)\n",
    "    assert result.hour == 21\n",
    "    assert result.minute == 0\n",
    "    assert result.second == 0\n",
    "    assert result.tzinfo == tz_beijing\n",
    "\n",
    "def test_aware_time_to_tz_beijing():\n",
    "    t: dt.time = dt.time(hour=21, minute=0, tzinfo=tz_beijing)\n",
    "    result = to_tz_beijing(t)\n",
    "    assert isinstance(result, dt.time)\n",
    "    assert result.hour == 21\n",
    "    assert result.minute == 0\n",
    "    assert result.second == 0\n",
    "    assert result.tzinfo == tz_beijing\n",
    "    \n",
    "    t: dt.time = dt.time(hour=21, minute=0, tzinfo=tz_trading)\n",
    "    result = to_tz_beijing(t)\n",
    "    assert isinstance(result, dt.time)\n",
    "    assert result.hour == 17\n",
    "    assert result.minute == 0\n",
    "    assert result.second == 0\n",
    "    assert result.tzinfo == tz_beijing\n",
    "\n",
    "def test_naive_time_to_tz_trading():\n",
    "    t: dt.time = dt.time(hour=21, minute=0)\n",
    "    result = to_tz_trading(t)\n",
    "    assert isinstance(result, dt.time)\n",
    "    assert result.hour == 1\n",
    "    assert result.minute == 0\n",
    "    assert result.second == 0\n",
    "    assert result.tzinfo == tz_trading\n",
    "\n",
    "def test_aware_time_to_tz_beijing():\n",
    "    t: dt.time = dt.time(hour=21, minute=0, tzinfo=tz_beijing)\n",
    "    result = to_tz_trading(t)\n",
    "    assert isinstance(result, dt.time)\n",
    "    assert result.hour == 1\n",
    "    assert result.minute == 0\n",
    "    assert result.second == 0\n",
    "    assert result.tzinfo == tz_trading\n",
    "    \n",
    "    t: dt.time = dt.time(hour=21, minute=0, tzinfo=tz_trading)\n",
    "    result = to_tz_trading(t)\n",
    "    assert isinstance(result, dt.time)\n",
    "    assert result.hour == 21\n",
    "    assert result.minute == 0\n",
    "    assert result.second == 0\n",
    "    assert result.tzinfo == tz_trading"
   ]
  },
  {
   "cell_type": "markdown",
   "id": "db4aa7b2-7812-4d11-bf25-36779d41e1c1",
   "metadata": {},
   "source": [
    "## Test for trading_time"
   ]
  },
  {
   "cell_type": "code",
   "execution_count": 5,
   "id": "f86c1f26-0c88-48c0-b1ed-1c543f2898a1",
   "metadata": {},
   "outputs": [
    {
     "name": "stdout",
     "output_type": "stream",
     "text": [
      "\u001b[32m.\u001b[0m\u001b[32m                                                                                            [100%]\u001b[0m\n",
      "\u001b[32m\u001b[32m\u001b[1m1 passed\u001b[0m\u001b[32m in 0.01s\u001b[0m\u001b[0m\n"
     ]
    }
   ],
   "source": [
    "%%ipytest\n",
    "\n",
    "\n",
    "import datetime as dt\n",
    "\n",
    "from src.timezone import (\n",
    "    tz_beijing,\n",
    "    tz_trading,\n",
    "    tz_delta,\n",
    "    to_tz_beijing,\n",
    "    to_tz_trading,\n",
    ")\n",
    "from src.trading_time import ProductTradingTime\n",
    "\n",
    "\n",
    "def test_product_trading_time():\n",
    "    test_ptt: ProductTradingTime = ProductTradingTime(\n",
    "        exchange='SHFE',\n",
    "        product='al',\n",
    "        count=4,\n",
    "        optional=1,\n",
    "        sections=[\n",
    "            dt.time(hour=21, minute=0),\n",
    "            dt.time(hour=1, minute=0),\n",
    "            dt.time(hour=9, minute=0),\n",
    "            dt.time(hour=10, minute=15),\n",
    "            dt.time(hour=10, minute=30),\n",
    "            dt.time(hour=11, minute=30),\n",
    "            dt.time(hour=13, minute=30),\n",
    "            dt.time(hour=15, minute=0),\n",
    "        ]\n",
    "    )\n",
    "\n",
    "    assert isinstance(test_ptt, ProductTradingTime)\n",
    "    assert isinstance(test_ptt.exchange, str)\n",
    "    assert test_ptt.exchange == 'SHFE'\n",
    "    assert isinstance(test_ptt.product, str)\n",
    "    assert test_ptt.product == 'al'"
   ]
  },
  {
   "cell_type": "code",
   "execution_count": null,
   "id": "37b1e564-9457-42d2-8d00-e093bfd3ff13",
   "metadata": {},
   "outputs": [],
   "source": []
  }
 ],
 "metadata": {
  "kernelspec": {
   "display_name": "Python 3 (ipykernel)",
   "language": "python",
   "name": "python3"
  },
  "language_info": {
   "codemirror_mode": {
    "name": "ipython",
    "version": 3
   },
   "file_extension": ".py",
   "mimetype": "text/x-python",
   "name": "python",
   "nbconvert_exporter": "python",
   "pygments_lexer": "ipython3",
   "version": "3.8.6"
  }
 },
 "nbformat": 4,
 "nbformat_minor": 5
}

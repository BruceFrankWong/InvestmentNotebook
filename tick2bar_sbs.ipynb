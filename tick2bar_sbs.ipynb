{
 "cells": [
  {
   "cell_type": "markdown",
   "id": "969c560e-ad38-4d97-872b-3a0e6f33c4be",
   "metadata": {
    "tags": []
   },
   "source": [
    "# Tick2Bar\n",
    "\n",
    "Convert tick to Bar (1 minute)."
   ]
  },
  {
   "cell_type": "code",
   "execution_count": 1,
   "id": "731ece4a-b39f-4be3-8e4d-666fbe04b2a5",
   "metadata": {
    "tags": []
   },
   "outputs": [],
   "source": [
    "# This allows multiple outputs from a single jupyter notebook cell:\n",
    "from IPython.core.interactiveshell import InteractiveShell\n",
    "InteractiveShell.ast_node_interactivity = \"all\""
   ]
  },
  {
   "cell_type": "code",
   "execution_count": 2,
   "id": "5b0589b0-fe71-4716-86df-a0f90f1f16f0",
   "metadata": {},
   "outputs": [],
   "source": [
    "from typing import List, Dict\n",
    "import os\n",
    "from pathlib import Path\n",
    "import datetime as dt\n",
    "\n",
    "import matplotlib.pyplot as plt\n",
    "import mplfinance as mpf\n",
    "import pandas as pd\n",
    "import numpy as np\n",
    "import math"
   ]
  },
  {
   "cell_type": "code",
   "execution_count": 3,
   "id": "b058b07c-54e4-447d-8a40-9e106808bf76",
   "metadata": {},
   "outputs": [],
   "source": [
    "# Definations.\n",
    "\n",
    "# Package path.\n",
    "PACKAGE_PATH: Path = Path(os.path.abspath(''))\n",
    "\n",
    "# Timezone.\n",
    "tz_beijing: dt.timezone = dt.timezone(dt.timedelta(hours=8))\n",
    "tz_trading: dt.timezone = dt.timezone(dt.timedelta(hours=12))\n",
    "\n",
    "tz_delta: dt.timedelta = dt.timedelta(hours=4)"
   ]
  },
  {
   "cell_type": "code",
   "execution_count": 4,
   "id": "b5930feb-b6da-4fdb-93b9-c752b3725765",
   "metadata": {},
   "outputs": [],
   "source": [
    "def filter_non_trading_data(df: pd.DataFrame) -> pd.DataFrame:\n",
    "    \"\"\"\n",
    "    Drop data in non-trading time.\n",
    "    \"\"\"\n",
    "    if df.index.inferred_type == 'datetime64':\n",
    "        return df[\n",
    "            (\n",
    "                ((df.index.time >= dt.datetime.strptime('00:59', '%H:%M').time()) & (df.index.time <= dt.datetime.strptime('05:00', '%H:%M').time())) |\n",
    "                ((df.index.time >= dt.datetime.strptime('12:59', '%H:%M').time()) & (df.index.time <= dt.datetime.strptime('14:15', '%H:%M').time())) |\n",
    "                ((df.index.time >= dt.datetime.strptime('14:30', '%H:%M').time()) & (df.index.time <= dt.datetime.strptime('15:30', '%H:%M').time())) |\n",
    "                ((df.index.time >= dt.datetime.strptime('17:30', '%H:%M').time()) & (df.index.time <= dt.datetime.strptime('19:00', '%H:%M').time()))\n",
    "            )\n",
    "        ]\n",
    "    else:\n",
    "        return df[\n",
    "            (\n",
    "                ((df.datetime.dt.time >= dt.datetime.strptime('00:59', '%H:%M').time()) & (df.datetime.dt.time <= dt.datetime.strptime('05:00', '%H:%M').time())) |\n",
    "                ((df.datetime.dt.time >= dt.datetime.strptime('12:59', '%H:%M').time()) & (df.datetime.dt.time <= dt.datetime.strptime('14:15', '%H:%M').time())) |\n",
    "                ((df.datetime.dt.time >= dt.datetime.strptime('14:30', '%H:%M').time()) & (df.datetime.dt.time <= dt.datetime.strptime('15:30', '%H:%M').time())) |\n",
    "                ((df.datetime.dt.time >= dt.datetime.strptime('17:30', '%H:%M').time()) & (df.datetime.dt.time <= dt.datetime.strptime('19:00', '%H:%M').time()))\n",
    "            )\n",
    "        ]\n",
    "\n",
    "def pbx(df: pd.DataFrame) -> pd.DataFrame:\n",
    "    \"\"\"\n",
    "    Add PBX indicator.\n",
    "    \"\"\"\n",
    "    df['PBX4'] = (df['close'].ewm(span=4, adjust=False).mean()+df['close'].rolling(4*2).mean()+df['close'].rolling(4*4).mean())/3\n",
    "    df['PBX6'] = (df['close'].ewm(span=6, adjust=False).mean()+df['close'].rolling(6*2).mean()+df['close'].rolling(6*4).mean())/3\n",
    "    df['PBX24'] = (df['close'].ewm(span=24, adjust=False).mean()+df['close'].rolling(24*2).mean()+df['close'].rolling(24*4).mean())/3\n",
    "    return df"
   ]
  },
  {
   "cell_type": "code",
   "execution_count": 5,
   "id": "38acac90-5745-4f87-b307-e2752eaa40cd",
   "metadata": {},
   "outputs": [],
   "source": [
    "# data file.\n",
    "tick_path: Path = PACKAGE_PATH.joinpath('SHFE.al2111_Tick.csv')"
   ]
  },
  {
   "cell_type": "code",
   "execution_count": 6,
   "id": "3603ef7f-2431-4738-a705-13d025084e40",
   "metadata": {},
   "outputs": [
    {
     "name": "stdout",
     "output_type": "stream",
     "text": [
      "Length of <df_origin>: 1468862\n"
     ]
    }
   ],
   "source": [
    "df_origin: pd.DataFrame = pd.read_csv(tick_path)\n",
    "df_origin['datetime'] = pd.to_datetime(df_origin['datetime'])\n",
    "print(f'Length of <df_origin>: {len(df_origin)}')"
   ]
  },
  {
   "cell_type": "code",
   "execution_count": 7,
   "id": "0af02eeb-7664-40a6-8602-c7b25c4e37a4",
   "metadata": {},
   "outputs": [
    {
     "name": "stdout",
     "output_type": "stream",
     "text": [
      "Length of <df_trading>: 1468862\n"
     ]
    }
   ],
   "source": [
    "# Change df timezone from Beijing to Trading.\n",
    "df_trading = df_origin\n",
    "df_trading['datetime'] = df_origin['datetime'] + dt.timedelta(hours=4)\n",
    "print(f'Length of <df_trading>: {len(df_trading)}')"
   ]
  },
  {
   "cell_type": "code",
   "execution_count": 8,
   "id": "1abca0be-a34a-4216-842d-5cb5b948ea20",
   "metadata": {},
   "outputs": [
    {
     "name": "stdout",
     "output_type": "stream",
     "text": [
      "Length of <df_trading>: 1468801\n"
     ]
    }
   ],
   "source": [
    "df_trading = filter_non_trading_data(df_trading)\n",
    "print(f'Length of <df_trading>: {len(df_trading)}')"
   ]
  },
  {
   "cell_type": "code",
   "execution_count": 9,
   "id": "83555d70-3191-4b77-a59c-313d06a57b2e",
   "metadata": {},
   "outputs": [
    {
     "name": "stdout",
     "output_type": "stream",
     "text": [
      "DatetimeIndex(['2021-07-01 00:59:00.500000', '2021-07-01 01:00:00.500000',\n",
      "                      '2021-07-01 01:00:01', '2021-07-01 01:00:01.500000',\n",
      "                      '2021-07-01 01:00:02', '2021-07-01 01:00:02.500000',\n",
      "                      '2021-07-01 01:00:03', '2021-07-01 01:00:03.500000',\n",
      "                      '2021-07-01 01:00:04', '2021-07-01 01:00:04.500000',\n",
      "               ...\n",
      "               '2021-09-25 04:59:55.500000',        '2021-09-25 04:59:56',\n",
      "               '2021-09-25 04:59:56.500000',        '2021-09-25 04:59:57',\n",
      "               '2021-09-25 04:59:57.500000',        '2021-09-25 04:59:58',\n",
      "               '2021-09-25 04:59:58.500000',        '2021-09-25 04:59:59',\n",
      "               '2021-09-25 04:59:59.500000', '2021-09-25 04:59:59.500001'],\n",
      "              dtype='datetime64[ns]', name='datetime', length=1468801, freq=None)\n"
     ]
    }
   ],
   "source": [
    "# Set df index to DateTimeIndex.\n",
    "df_trading = df_trading.set_index('datetime')\n",
    "print(df_trading.index)"
   ]
  },
  {
   "cell_type": "code",
   "execution_count": 10,
   "id": "5af1f309-1d84-4f52-ab4c-95fb0c27bb53",
   "metadata": {},
   "outputs": [
    {
     "name": "stdout",
     "output_type": "stream",
     "text": [
      "                        open     high      low    close\n",
      "datetime                                               \n",
      "2021-07-01 00:59:00  18780.0  18780.0  18780.0  18780.0\n",
      "2021-07-01 01:00:00  18780.0  18800.0  18780.0  18790.0\n",
      "2021-07-01 01:01:00  18790.0  18820.0  18790.0  18815.0\n",
      "2021-07-01 01:02:00  18815.0  18835.0  18815.0  18815.0\n",
      "2021-07-01 01:03:00  18815.0  18820.0  18815.0  18820.0\n",
      "...                      ...      ...      ...      ...\n",
      "2021-09-25 04:55:00  22955.0  22960.0  22945.0  22950.0\n",
      "2021-09-25 04:56:00  22950.0  22960.0  22945.0  22950.0\n",
      "2021-09-25 04:57:00  22950.0  22955.0  22950.0  22950.0\n",
      "2021-09-25 04:58:00  22955.0  22960.0  22945.0  22955.0\n",
      "2021-09-25 04:59:00  22950.0  22960.0  22945.0  22945.0\n",
      "\n",
      "[124081 rows x 4 columns]\n"
     ]
    }
   ],
   "source": [
    "df_1min = df_trading['last_price'].resample('1MIN').ohlc()\n",
    "print(df_1min)"
   ]
  },
  {
   "cell_type": "code",
   "execution_count": 11,
   "id": "7004c7ef-2ed2-49d1-964c-dad2e5275978",
   "metadata": {},
   "outputs": [
    {
     "name": "stdout",
     "output_type": "stream",
     "text": [
      "                        open     high      low    close\n",
      "datetime                                               \n",
      "2021-07-01 00:59:00  18780.0  18780.0  18780.0  18780.0\n",
      "2021-07-01 01:00:00  18780.0  18800.0  18780.0  18790.0\n",
      "2021-07-01 01:01:00  18790.0  18820.0  18790.0  18815.0\n",
      "2021-07-01 01:02:00  18815.0  18835.0  18815.0  18815.0\n",
      "2021-07-01 01:03:00  18815.0  18820.0  18815.0  18820.0\n",
      "...                      ...      ...      ...      ...\n",
      "2021-09-25 04:55:00  22955.0  22960.0  22945.0  22950.0\n",
      "2021-09-25 04:56:00  22950.0  22960.0  22945.0  22950.0\n",
      "2021-09-25 04:57:00  22950.0  22955.0  22950.0  22950.0\n",
      "2021-09-25 04:58:00  22955.0  22960.0  22945.0  22955.0\n",
      "2021-09-25 04:59:00  22950.0  22960.0  22945.0  22945.0\n",
      "\n",
      "[40747 rows x 4 columns]\n"
     ]
    }
   ],
   "source": [
    "df_1min = df_1min[\n",
    "    (\n",
    "        ((df_1min.index.time >= dt.datetime.strptime('00:59', '%H:%M').time()) & (df_1min.index.time <= dt.datetime.strptime('05:00', '%H:%M').time())) |\n",
    "        ((df_1min.index.time >= dt.datetime.strptime('12:59', '%H:%M').time()) & (df_1min.index.time <= dt.datetime.strptime('14:15', '%H:%M').time())) |\n",
    "        ((df_1min.index.time >= dt.datetime.strptime('14:30', '%H:%M').time()) & (df_1min.index.time <= dt.datetime.strptime('15:30', '%H:%M').time())) |\n",
    "        ((df_1min.index.time >= dt.datetime.strptime('17:30', '%H:%M').time()) & (df_1min.index.time <= dt.datetime.strptime('19:00', '%H:%M').time()))\n",
    "    )\n",
    "]\n",
    "print(df_1min)"
   ]
  },
  {
   "cell_type": "code",
   "execution_count": 12,
   "id": "eade661d-fe89-4f68-9071-9c8b1fbce985",
   "metadata": {},
   "outputs": [],
   "source": [
    "# df_min1: pd.DataFrame = df_test['2021-09-24 20:59:00.000000':'2021-09-24 21:01:00.000000']\n",
    "# price_open: float = df_min1.iloc[1].at ['last_price']\n",
    "# price_close: float = df_min1.iloc[-1].at ['last_price']\n",
    "# price_high: float = df_min1['last_price'].max()\n",
    "# price_low: float = df_min1['last_price'].min()\n",
    "# print(f'Open: {price_open}, High: {price_high}, Low: {price_low}, Close: {price_close}')"
   ]
  },
  {
   "cell_type": "code",
   "execution_count": 13,
   "id": "11c7291c-1f13-41c3-9e11-bff270ea1228",
   "metadata": {},
   "outputs": [
    {
     "name": "stdout",
     "output_type": "stream",
     "text": [
      "                        open                                high           \\\n",
      "                        open     high      low    close     open     high   \n",
      "datetime                                                                    \n",
      "2021-07-01 00:55:00  18780.0  18780.0  18780.0  18780.0  18780.0  18780.0   \n",
      "2021-07-01 01:00:00  18780.0  18820.0  18780.0  18820.0  18800.0  18835.0   \n",
      "2021-07-01 01:05:00  18835.0  18870.0  18835.0  18870.0  18855.0  18915.0   \n",
      "2021-07-01 01:10:00  18910.0  18930.0  18910.0  18920.0  18925.0  18945.0   \n",
      "2021-07-01 01:15:00  18945.0  18945.0  18920.0  18935.0  18950.0  18950.0   \n",
      "...                      ...      ...      ...      ...      ...      ...   \n",
      "2021-09-25 04:35:00  22995.0  23005.0  22985.0  22985.0  23005.0  23020.0   \n",
      "2021-09-25 04:40:00  22990.0  22995.0  22965.0  22965.0  23005.0  23005.0   \n",
      "2021-09-25 04:45:00  22970.0  22970.0  22960.0  22970.0  22975.0  22975.0   \n",
      "2021-09-25 04:50:00  22960.0  22970.0  22960.0  22970.0  22965.0  22980.0   \n",
      "2021-09-25 04:55:00  22955.0  22955.0  22950.0  22950.0  22960.0  22960.0   \n",
      "\n",
      "                                           low                             \\\n",
      "                         low    close     open     high      low    close   \n",
      "datetime                                                                    \n",
      "2021-07-01 00:55:00  18780.0  18780.0  18780.0  18780.0  18780.0  18780.0   \n",
      "2021-07-01 01:00:00  18800.0  18835.0  18780.0  18820.0  18780.0  18820.0   \n",
      "2021-07-01 01:05:00  18855.0  18915.0  18835.0  18870.0  18835.0  18870.0   \n",
      "2021-07-01 01:10:00  18920.0  18945.0  18910.0  18920.0  18910.0  18920.0   \n",
      "2021-07-01 01:15:00  18930.0  18940.0  18935.0  18935.0  18915.0  18930.0   \n",
      "...                      ...      ...      ...      ...      ...      ...   \n",
      "2021-09-25 04:35:00  22990.0  22990.0  22995.0  23005.0  22980.0  22980.0   \n",
      "2021-09-25 04:40:00  22975.0  22975.0  22990.0  22990.0  22960.0  22960.0   \n",
      "2021-09-25 04:45:00  22965.0  22970.0  22965.0  22965.0  22955.0  22955.0   \n",
      "2021-09-25 04:50:00  22965.0  22970.0  22955.0  22965.0  22935.0  22935.0   \n",
      "2021-09-25 04:55:00  22955.0  22960.0  22945.0  22950.0  22945.0  22945.0   \n",
      "\n",
      "                       close                             \n",
      "                        open     high      low    close  \n",
      "datetime                                                 \n",
      "2021-07-01 00:55:00  18780.0  18780.0  18780.0  18780.0  \n",
      "2021-07-01 01:00:00  18790.0  18835.0  18790.0  18835.0  \n",
      "2021-07-01 01:05:00  18845.0  18905.0  18845.0  18905.0  \n",
      "2021-07-01 01:10:00  18920.0  18945.0  18915.0  18945.0  \n",
      "2021-07-01 01:15:00  18935.0  18935.0  18920.0  18930.0  \n",
      "...                      ...      ...      ...      ...  \n",
      "2021-09-25 04:35:00  23000.0  23005.0  22985.0  22990.0  \n",
      "2021-09-25 04:40:00  22995.0  22995.0  22965.0  22970.0  \n",
      "2021-09-25 04:45:00  22965.0  22965.0  22960.0  22960.0  \n",
      "2021-09-25 04:50:00  22965.0  22970.0  22955.0  22955.0  \n",
      "2021-09-25 04:55:00  22950.0  22955.0  22945.0  22945.0  \n",
      "\n",
      "[24817 rows x 16 columns]\n"
     ]
    }
   ],
   "source": [
    "df_5min = df_1min.resample('5MIN').ohlc()\n",
    "print(df_5min)"
   ]
  },
  {
   "cell_type": "code",
   "execution_count": 14,
   "id": "93c51647-bb06-49dc-8b0b-dda1c87f02bc",
   "metadata": {},
   "outputs": [],
   "source": [
    "# 计算瀑布线\n",
    "df_1min['PBX4'] = (df_1min['close'].ewm(span=4, adjust=False).mean()+df_1min['close'].rolling(4*2).mean()+df_1min['close'].rolling(4*4).mean())/3\n",
    "df_1min['PBX6'] = (df_1min['close'].ewm(span=6, adjust=False).mean()+df_1min['close'].rolling(6*2).mean()+df_1min['close'].rolling(6*4).mean())/3\n",
    "df_1min['PBX24'] = (df_1min['close'].ewm(span=24, adjust=False).mean()+df_1min['close'].rolling(24*2).mean()+df_1min['close'].rolling(24*4).mean())/3"
   ]
  },
  {
   "cell_type": "code",
   "execution_count": 15,
   "id": "0226ec6f-5491-41b4-b5c9-9a648a9495d2",
   "metadata": {},
   "outputs": [
    {
     "name": "stdout",
     "output_type": "stream",
     "text": [
      "                        open     high      low    close          PBX4  \\\n",
      "datetime                                                                \n",
      "2021-09-24 00:59:00  23565.0  23565.0  23565.0  23565.0           NaN   \n",
      "2021-09-24 01:00:00  23590.0  23635.0  23575.0  23590.0           NaN   \n",
      "2021-09-24 01:01:00  23590.0  23600.0  23520.0  23525.0           NaN   \n",
      "2021-09-24 01:02:00  23525.0  23560.0  23525.0  23535.0           NaN   \n",
      "2021-09-24 01:03:00  23535.0  23540.0  23450.0  23495.0           NaN   \n",
      "...                      ...      ...      ...      ...           ...   \n",
      "2021-09-25 01:23:00  22950.0  22970.0  22940.0  22965.0  22944.423412   \n",
      "2021-09-25 01:24:00  22960.0  22965.0  22930.0  22930.0  22939.674880   \n",
      "2021-09-25 01:25:00  22930.0  22965.0  22925.0  22960.0  22943.075762   \n",
      "2021-09-25 01:26:00  22965.0  22975.0  22945.0  22965.0  22947.720457   \n",
      "2021-09-25 01:27:00  22960.0  22965.0  22940.0  22940.0  22946.611441   \n",
      "\n",
      "                             PBX6  PBX24  \n",
      "datetime                                  \n",
      "2021-09-24 00:59:00           NaN    NaN  \n",
      "2021-09-24 01:00:00           NaN    NaN  \n",
      "2021-09-24 01:01:00           NaN    NaN  \n",
      "2021-09-24 01:02:00           NaN    NaN  \n",
      "2021-09-24 01:03:00           NaN    NaN  \n",
      "...                           ...    ...  \n",
      "2021-09-25 01:23:00  22955.907638    NaN  \n",
      "2021-09-25 01:24:00  22950.866567    NaN  \n",
      "2021-09-25 01:25:00  22952.424532    NaN  \n",
      "2021-09-25 01:26:00  22952.684189    NaN  \n",
      "2021-09-25 01:27:00  22949.774421    NaN  \n",
      "\n",
      "[500 rows x 7 columns]\n"
     ]
    }
   ],
   "source": [
    "print(df_1min.loc['2021-09-24 00:59:00.000000':, :].head(500))"
   ]
  },
  {
   "cell_type": "code",
   "execution_count": null,
   "id": "cba7f29e-f422-4c52-9119-f24ee3827417",
   "metadata": {},
   "outputs": [],
   "source": []
  }
 ],
 "metadata": {
  "kernelspec": {
   "display_name": "Python 3 (ipykernel)",
   "language": "python",
   "name": "python3"
  },
  "language_info": {
   "codemirror_mode": {
    "name": "ipython",
    "version": 3
   },
   "file_extension": ".py",
   "mimetype": "text/x-python",
   "name": "python",
   "nbconvert_exporter": "python",
   "pygments_lexer": "ipython3",
   "version": "3.8.6"
  }
 },
 "nbformat": 4,
 "nbformat_minor": 5
}
